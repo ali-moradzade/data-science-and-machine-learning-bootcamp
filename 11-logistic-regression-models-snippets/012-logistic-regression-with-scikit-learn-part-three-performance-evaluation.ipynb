{
 "cells": [
  {
   "cell_type": "code",
   "execution_count": 2,
   "id": "8e4c7bb4",
   "metadata": {},
   "outputs": [],
   "source": [
    "import numpy as np\n",
    "import pandas as pd\n",
    "import matplotlib.pyplot as plt\n",
    "import seaborn as sns"
   ]
  },
  {
   "cell_type": "code",
   "execution_count": 3,
   "id": "35708a17",
   "metadata": {},
   "outputs": [],
   "source": [
    "df = pd.read_csv('../data/hearing_test.csv')"
   ]
  },
  {
   "cell_type": "code",
   "execution_count": 4,
   "id": "4bcec30f",
   "metadata": {},
   "outputs": [],
   "source": [
    "X = df.drop('test_result', axis=1)\n",
    "y = df['test_result']"
   ]
  },
  {
   "cell_type": "code",
   "execution_count": 5,
   "id": "44f2041d",
   "metadata": {},
   "outputs": [],
   "source": [
    "from sklearn.model_selection import train_test_split\n",
    "\n",
    "X_train, X_test, y_train, y_test = train_test_split(X, y, test_size=0.1, random_state=101)"
   ]
  },
  {
   "cell_type": "code",
   "execution_count": 6,
   "id": "d4f7be7a",
   "metadata": {},
   "outputs": [],
   "source": [
    "from sklearn.preprocessing import StandardScaler\n",
    "\n",
    "scaler = StandardScaler()\n",
    "\n",
    "scaled_X_train = scaler.fit_transform(X_train)\n",
    "scaled_X_test = scaler.transform(X_test)"
   ]
  },
  {
   "cell_type": "code",
   "execution_count": 7,
   "id": "b2d37a6e",
   "metadata": {},
   "outputs": [
    {
     "data": {
      "text/plain": [
       "LogisticRegression()"
      ]
     },
     "execution_count": 7,
     "metadata": {},
     "output_type": "execute_result"
    }
   ],
   "source": [
    "from sklearn.linear_model import LogisticRegression\n",
    "\n",
    "log_model = LogisticRegression()\n",
    "log_model.fit(scaled_X_train, y_train)"
   ]
  },
  {
   "cell_type": "code",
   "execution_count": 8,
   "id": "33c66aa3",
   "metadata": {},
   "outputs": [
    {
     "data": {
      "text/plain": [
       "array([[-0.94953524,  3.45991194]])"
      ]
     },
     "execution_count": 8,
     "metadata": {},
     "output_type": "execute_result"
    }
   ],
   "source": [
    "log_model.coef_"
   ]
  },
  {
   "cell_type": "code",
   "execution_count": 9,
   "id": "79114639",
   "metadata": {},
   "outputs": [
    {
     "data": {
      "text/html": [
       "<div>\n",
       "<style scoped>\n",
       "    .dataframe tbody tr th:only-of-type {\n",
       "        vertical-align: middle;\n",
       "    }\n",
       "\n",
       "    .dataframe tbody tr th {\n",
       "        vertical-align: top;\n",
       "    }\n",
       "\n",
       "    .dataframe thead th {\n",
       "        text-align: right;\n",
       "    }\n",
       "</style>\n",
       "<table border=\"1\" class=\"dataframe\">\n",
       "  <thead>\n",
       "    <tr style=\"text-align: right;\">\n",
       "      <th></th>\n",
       "      <th>age</th>\n",
       "      <th>physical_score</th>\n",
       "      <th>test_result</th>\n",
       "    </tr>\n",
       "  </thead>\n",
       "  <tbody>\n",
       "    <tr>\n",
       "      <th>0</th>\n",
       "      <td>33.0</td>\n",
       "      <td>40.7</td>\n",
       "      <td>1</td>\n",
       "    </tr>\n",
       "    <tr>\n",
       "      <th>1</th>\n",
       "      <td>50.0</td>\n",
       "      <td>37.2</td>\n",
       "      <td>1</td>\n",
       "    </tr>\n",
       "    <tr>\n",
       "      <th>2</th>\n",
       "      <td>52.0</td>\n",
       "      <td>24.7</td>\n",
       "      <td>0</td>\n",
       "    </tr>\n",
       "    <tr>\n",
       "      <th>3</th>\n",
       "      <td>56.0</td>\n",
       "      <td>31.0</td>\n",
       "      <td>0</td>\n",
       "    </tr>\n",
       "    <tr>\n",
       "      <th>4</th>\n",
       "      <td>35.0</td>\n",
       "      <td>42.9</td>\n",
       "      <td>1</td>\n",
       "    </tr>\n",
       "  </tbody>\n",
       "</table>\n",
       "</div>"
      ],
      "text/plain": [
       "    age  physical_score  test_result\n",
       "0  33.0            40.7            1\n",
       "1  50.0            37.2            1\n",
       "2  52.0            24.7            0\n",
       "3  56.0            31.0            0\n",
       "4  35.0            42.9            1"
      ]
     },
     "execution_count": 9,
     "metadata": {},
     "output_type": "execute_result"
    }
   ],
   "source": [
    "df.head()"
   ]
  },
  {
   "cell_type": "code",
   "execution_count": 10,
   "id": "607cfb94",
   "metadata": {},
   "outputs": [],
   "source": [
    "from sklearn.metrics import accuracy_score, confusion_matrix, classification_report"
   ]
  },
  {
   "cell_type": "code",
   "execution_count": 11,
   "id": "7846468f",
   "metadata": {},
   "outputs": [],
   "source": [
    "y_pred = log_model.predict(scaled_X_test)"
   ]
  },
  {
   "cell_type": "code",
   "execution_count": 12,
   "id": "daa4cf13",
   "metadata": {},
   "outputs": [
    {
     "data": {
      "text/plain": [
       "array([1, 1, 0, 1, 0, 0, 1, 1, 0, 1, 1, 1, 1, 0, 1, 1, 0, 1, 1, 0, 0, 1,\n",
       "       0, 1, 1, 0, 1, 1, 0, 1, 1, 1, 1, 1, 1, 0, 1, 1, 0, 1, 1, 1, 1, 0,\n",
       "       0, 1, 1, 1, 1, 1, 1, 0, 0, 0, 1, 0, 1, 1, 1, 1, 1, 0, 1, 0, 1, 1,\n",
       "       0, 1, 1, 1, 1, 1, 1, 0, 1, 1, 1, 0, 0, 1, 1, 1, 1, 1, 0, 0, 1, 0,\n",
       "       0, 1, 1, 1, 0, 1, 0, 0, 0, 1, 1, 1, 1, 0, 0, 0, 1, 0, 1, 0, 0, 1,\n",
       "       1, 0, 0, 1, 0, 0, 0, 1, 1, 0, 1, 0, 0, 1, 1, 0, 1, 0, 1, 0, 1, 1,\n",
       "       1, 1, 0, 1, 1, 0, 0, 0, 0, 1, 0, 1, 1, 1, 0, 0, 0, 0, 1, 1, 0, 1,\n",
       "       1, 1, 0, 1, 0, 1, 1, 0, 1, 0, 1, 0, 1, 1, 0, 0, 1, 1, 0, 1, 1, 1,\n",
       "       1, 1, 0, 1, 0, 0, 1, 1, 1, 0, 1, 1, 0, 1, 1, 0, 0, 0, 1, 1, 1, 1,\n",
       "       0, 1, 1, 0, 1, 0, 1, 1, 1, 0, 1, 0, 1, 1, 0, 1, 0, 1, 1, 0, 0, 0,\n",
       "       1, 1, 0, 1, 1, 0, 0, 0, 1, 0, 0, 1, 0, 0, 1, 1, 1, 1, 1, 0, 1, 1,\n",
       "       1, 0, 0, 1, 0, 1, 1, 1, 0, 1, 1, 0, 1, 0, 1, 1, 1, 1, 1, 0, 0, 1,\n",
       "       1, 0, 1, 1, 0, 0, 1, 0, 1, 1, 1, 1, 0, 1, 1, 1, 1, 1, 1, 1, 0, 1,\n",
       "       1, 0, 0, 0, 0, 0, 1, 1, 1, 0, 1, 0, 1, 1, 1, 1, 0, 1, 0, 0, 1, 1,\n",
       "       1, 1, 1, 1, 0, 1, 1, 1, 1, 1, 0, 0, 0, 1, 0, 1, 1, 1, 0, 1, 1, 1,\n",
       "       0, 0, 0, 1, 0, 1, 1, 1, 1, 1, 0, 0, 1, 1, 1, 1, 1, 0, 1, 1, 0, 0,\n",
       "       1, 1, 1, 0, 1, 1, 0, 1, 0, 1, 0, 1, 1, 1, 1, 0, 1, 1, 1, 0, 0, 1,\n",
       "       1, 0, 1, 1, 1, 0, 1, 1, 1, 1, 0, 1, 1, 1, 1, 0, 1, 1, 1, 1, 1, 1,\n",
       "       0, 0, 1, 1, 1, 0, 0, 0, 1, 1, 0, 1, 0, 0, 1, 1, 0, 1, 1, 1, 1, 1,\n",
       "       0, 1, 1, 1, 0, 1, 1, 0, 0, 1, 0, 0, 0, 0, 1, 1, 1, 1, 1, 1, 0, 0,\n",
       "       1, 0, 1, 1, 1, 1, 1, 0, 1, 0, 1, 0, 0, 1, 1, 1, 0, 0, 1, 1, 0, 1,\n",
       "       1, 1, 1, 1, 1, 1, 0, 1, 0, 1, 1, 1, 1, 1, 1, 0, 1, 0, 1, 1, 0, 0,\n",
       "       1, 0, 1, 1, 0, 1, 0, 0, 1, 1, 1, 1, 1, 0, 0, 0])"
      ]
     },
     "execution_count": 12,
     "metadata": {},
     "output_type": "execute_result"
    }
   ],
   "source": [
    "y_pred"
   ]
  },
  {
   "cell_type": "code",
   "execution_count": 13,
   "id": "3578f836",
   "metadata": {},
   "outputs": [
    {
     "data": {
      "text/plain": [
       "0.93"
      ]
     },
     "execution_count": 13,
     "metadata": {},
     "output_type": "execute_result"
    }
   ],
   "source": [
    "accuracy_score(y_test, y_pred)"
   ]
  },
  {
   "cell_type": "code",
   "execution_count": 14,
   "id": "22548541",
   "metadata": {},
   "outputs": [
    {
     "data": {
      "text/plain": [
       "array([[172,  21],\n",
       "       [ 14, 293]])"
      ]
     },
     "execution_count": 14,
     "metadata": {},
     "output_type": "execute_result"
    }
   ],
   "source": [
    "confusion_matrix(y_test, y_pred)"
   ]
  },
  {
   "cell_type": "code",
   "execution_count": 15,
   "id": "27e3a2ee",
   "metadata": {},
   "outputs": [],
   "source": [
    "from sklearn.metrics import plot_confusion_matrix"
   ]
  },
  {
   "cell_type": "code",
   "execution_count": 16,
   "id": "f55925be",
   "metadata": {},
   "outputs": [
    {
     "data": {
      "text/plain": [
       "<sklearn.metrics._plot.confusion_matrix.ConfusionMatrixDisplay at 0x7fd2a860f670>"
      ]
     },
     "execution_count": 16,
     "metadata": {},
     "output_type": "execute_result"
    },
    {
     "data": {
      "image/png": "[encoded data removed]",
      "text/plain": [
       "<Figure size 432x288 with 2 Axes>"
      ]
     },
     "metadata": {
      "needs_background": "light"
     },
     "output_type": "display_data"
    }
   ],
   "source": [
    "plot_confusion_matrix(log_model, scaled_X_test, y_test)"
   ]
  },
  {
   "cell_type": "code",
   "execution_count": 17,
   "id": "3eb3cbb5",
   "metadata": {},
   "outputs": [
    {
     "data": {
      "text/plain": [
       "<sklearn.metrics._plot.confusion_matrix.ConfusionMatrixDisplay at 0x7fd269313cd0>"
      ]
     },
     "execution_count": 17,
     "metadata": {},
     "output_type": "execute_result"
    },
    {
     "data": {
      "image/png": "[encoded data removed]",
      "text/plain": [
       "<Figure size 432x288 with 2 Axes>"
      ]
     },
     "metadata": {
      "needs_background": "light"
     },
     "output_type": "display_data"
    }
   ],
   "source": [
    "plot_confusion_matrix(log_model, scaled_X_test, y_test, normalize='all')"
   ]
  },
  {
   "cell_type": "code",
   "execution_count": 18,
   "id": "53c5bb7c",
   "metadata": {},
   "outputs": [
    {
     "data": {
      "text/plain": [
       "500"
      ]
     },
     "execution_count": 18,
     "metadata": {},
     "output_type": "execute_result"
    }
   ],
   "source": [
    "len(y_test)"
   ]
  },
  {
   "cell_type": "code",
   "execution_count": 20,
   "id": "98722961",
   "metadata": {},
   "outputs": [
    {
     "name": "stdout",
     "output_type": "stream",
     "text": [
      "              precision    recall  f1-score   support\n",
      "\n",
      "           0       0.92      0.89      0.91       193\n",
      "           1       0.93      0.95      0.94       307\n",
      "\n",
      "    accuracy                           0.93       500\n",
      "   macro avg       0.93      0.92      0.93       500\n",
      "weighted avg       0.93      0.93      0.93       500\n",
      "\n"
     ]
    }
   ],
   "source": [
    "print(classification_report(y_test, y_pred))"
   ]
  },
  {
   "cell_type": "code",
   "execution_count": 21,
   "id": "aed8abad",
   "metadata": {},
   "outputs": [],
   "source": [
    "from sklearn.metrics import precision_score, recall_score"
   ]
  },
  {
   "cell_type": "code",
   "execution_count": 22,
   "id": "3d156788",
   "metadata": {},
   "outputs": [
    {
     "data": {
      "text/plain": [
       "0.9331210191082803"
      ]
     },
     "execution_count": 22,
     "metadata": {},
     "output_type": "execute_result"
    }
   ],
   "source": [
    "precision_score(y_test, y_pred)"
   ]
  },
  {
   "cell_type": "code",
   "execution_count": 23,
   "id": "bf385d0b",
   "metadata": {},
   "outputs": [
    {
     "data": {
      "text/plain": [
       "0.9543973941368078"
      ]
     },
     "execution_count": 23,
     "metadata": {},
     "output_type": "execute_result"
    }
   ],
   "source": [
    "recall_score(y_test, y_pred)"
   ]
  },
  {
   "cell_type": "code",
   "execution_count": 24,
   "id": "2e99ecda",
   "metadata": {},
   "outputs": [],
   "source": [
    "from sklearn.metrics import plot_precision_recall_curve, plot_roc_curve"
   ]
  },
  {
   "cell_type": "code",
   "execution_count": 25,
   "id": "5538c15c",
   "metadata": {},
   "outputs": [
    {
     "data": {
      "text/plain": [
       "<sklearn.metrics._plot.roc_curve.RocCurveDisplay at 0x7fd2639a47f0>"
      ]
     },
     "execution_count": 25,
     "metadata": {},
     "output_type": "execute_result"
    },
    {
     "data": {
      "image/png": "[encoded data removed]",
      "text/plain": [
       "<Figure size 432x288 with 1 Axes>"
      ]
     },
     "metadata": {
      "needs_background": "light"
     },
     "output_type": "display_data"
    }
   ],
   "source": [
    "plot_roc_curve(log_model, scaled_X_test, y_test)"
   ]
  },
  {
   "cell_type": "code",
   "execution_count": 30,
   "id": "b8ca2174",
   "metadata": {},
   "outputs": [
    {
     "data": {
      "text/plain": [
       "<sklearn.metrics._plot.roc_curve.RocCurveDisplay at 0x7fd262c1ba30>"
      ]
     },
     "execution_count": 30,
     "metadata": {},
     "output_type": "execute_result"
    },
    {
     "data": {
      "image/png": "[encoded data removed]",
      "text/plain": [
       "<Figure size 1500x600 with 1 Axes>"
      ]
     },
     "metadata": {
      "needs_background": "light"
     },
     "output_type": "display_data"
    }
   ],
   "source": [
    "fig, ax = plt.subplots(figsize=(10, 4), dpi=150)\n",
    "plot_roc_curve(log_model, scaled_X_test, y_test, ax=ax)"
   ]
  },
  {
   "cell_type": "code",
   "execution_count": 31,
   "id": "806bb76b",
   "metadata": {},
   "outputs": [
    {
     "data": {
      "text/plain": [
       "<sklearn.metrics._plot.precision_recall_curve.PrecisionRecallDisplay at 0x7fd262de3f40>"
      ]
     },
     "execution_count": 31,
     "metadata": {},
     "output_type": "execute_result"
    },
    {
     "data": {
      "image/png": "[encoded data removed]",
      "text/plain": [
       "<Figure size 432x288 with 1 Axes>"
      ]
     },
     "metadata": {
      "needs_background": "light"
     },
     "output_type": "display_data"
    }
   ],
   "source": [
    "plot_precision_recall_curve(log_model, scaled_X_test, y_test)"
   ]
  },
  {
   "cell_type": "code",
   "execution_count": 32,
   "id": "5e460a31",
   "metadata": {},
   "outputs": [
    {
     "data": {
      "text/plain": [
       "array([[2.38434328e-02, 9.76156567e-01],\n",
       "       [2.69240761e-02, 9.73075924e-01],\n",
       "       [9.89194168e-01, 1.08058325e-02],\n",
       "       [1.90768955e-03, 9.98092310e-01],\n",
       "       [9.75012619e-01, 2.49873806e-02],\n",
       "       [9.89652504e-01, 1.03474957e-02],\n",
       "       [7.40226674e-02, 9.25977333e-01],\n",
       "       [1.70943342e-02, 9.82905666e-01],\n",
       "       [9.97066033e-01, 2.93396692e-03],\n",
       "       [3.30521615e-02, 9.66947839e-01],\n",
       "       [8.31035903e-02, 9.16896410e-01],\n",
       "       [9.92865306e-03, 9.90071347e-01],\n",
       "       [7.08965218e-03, 9.92910348e-01],\n",
       "       [9.34236379e-01, 6.57636209e-02],\n",
       "       [1.16594927e-04, 9.99883405e-01],\n",
       "       [6.58904151e-02, 9.34109585e-01],\n",
       "       [9.89126706e-01, 1.08732938e-02],\n",
       "       [2.80051357e-03, 9.97199486e-01],\n",
       "       [5.58920624e-04, 9.99441079e-01],\n",
       "       [9.96523291e-01, 3.47670946e-03],\n",
       "       [8.81757060e-01, 1.18242940e-01],\n",
       "       [1.31030473e-01, 8.68969527e-01],\n",
       "       [5.45646751e-01, 4.54353249e-01],\n",
       "       [3.44064171e-02, 9.65593583e-01],\n",
       "       [3.98386430e-01, 6.01613570e-01],\n",
       "       [5.35437626e-01, 4.64562374e-01],\n",
       "       [3.89992054e-02, 9.61000795e-01],\n",
       "       [1.92947037e-02, 9.80705296e-01],\n",
       "       [9.12948170e-01, 8.70518303e-02],\n",
       "       [2.96787891e-04, 9.99703212e-01],\n",
       "       [4.58669888e-02, 9.54133011e-01],\n",
       "       [2.17209875e-03, 9.97827901e-01],\n",
       "       [1.77753726e-02, 9.82224627e-01],\n",
       "       [6.24150798e-03, 9.93758492e-01],\n",
       "       [4.40443721e-02, 9.55955628e-01],\n",
       "       [9.69351517e-01, 3.06484833e-02],\n",
       "       [6.57522444e-02, 9.34247756e-01],\n",
       "       [2.80712850e-02, 9.71928715e-01],\n",
       "       [9.88216425e-01, 1.17835749e-02],\n",
       "       [4.58080211e-02, 9.54191979e-01],\n",
       "       [6.24708551e-03, 9.93752914e-01],\n",
       "       [3.89217026e-01, 6.10782974e-01],\n",
       "       [3.68916971e-01, 6.31083029e-01],\n",
       "       [5.77657072e-01, 4.22342928e-01],\n",
       "       [9.99689730e-01, 3.10270210e-04],\n",
       "       [6.31385917e-02, 9.36861408e-01],\n",
       "       [6.58351145e-02, 9.34164886e-01],\n",
       "       [1.63736814e-02, 9.83626319e-01],\n",
       "       [5.60582137e-02, 9.43941786e-01],\n",
       "       [1.35624393e-01, 8.64375607e-01],\n",
       "       [1.80906316e-01, 8.19093684e-01],\n",
       "       [6.18665447e-01, 3.81334553e-01],\n",
       "       [5.89720471e-01, 4.10279529e-01],\n",
       "       [8.73012100e-01, 1.26987900e-01],\n",
       "       [4.62974157e-03, 9.95370258e-01],\n",
       "       [7.98118309e-01, 2.01881691e-01],\n",
       "       [3.73094351e-02, 9.62690565e-01],\n",
       "       [4.28310202e-03, 9.95716898e-01],\n",
       "       [1.91025841e-03, 9.98089742e-01],\n",
       "       [1.94393517e-01, 8.05606483e-01],\n",
       "       [3.02976809e-01, 6.97023191e-01],\n",
       "       [8.11179160e-01, 1.88820840e-01],\n",
       "       [7.66989976e-02, 9.23301002e-01],\n",
       "       [9.97999524e-01, 2.00047597e-03],\n",
       "       [2.26812376e-03, 9.97731876e-01],\n",
       "       [5.83970402e-02, 9.41602960e-01],\n",
       "       [9.96400556e-01, 3.59944447e-03],\n",
       "       [3.44512376e-02, 9.65548762e-01],\n",
       "       [1.30877036e-01, 8.69122964e-01],\n",
       "       [4.40443721e-02, 9.55955628e-01],\n",
       "       [5.05150750e-03, 9.94948493e-01],\n",
       "       [2.92148778e-02, 9.70785122e-01],\n",
       "       [3.30809000e-02, 9.66919100e-01],\n",
       "       [9.86583741e-01, 1.34162586e-02],\n",
       "       [1.07654969e-02, 9.89234503e-01],\n",
       "       [1.57176506e-02, 9.84282349e-01],\n",
       "       [1.68474104e-01, 8.31525896e-01],\n",
       "       [9.96382782e-01, 3.61721817e-03],\n",
       "       [9.65392767e-01, 3.46072328e-02],\n",
       "       [1.64026590e-02, 9.83597341e-01],\n",
       "       [1.36210935e-03, 9.98637891e-01],\n",
       "       [1.21883276e-02, 9.87811672e-01],\n",
       "       [1.17522686e-01, 8.82477314e-01],\n",
       "       [4.73410477e-01, 5.26589523e-01],\n",
       "       [9.85470136e-01, 1.45298643e-02],\n",
       "       [9.87191203e-01, 1.28087967e-02],\n",
       "       [1.75024379e-01, 8.24975621e-01],\n",
       "       [8.24494120e-01, 1.75505880e-01],\n",
       "       [9.91148707e-01, 8.85129287e-03],\n",
       "       [3.92348277e-03, 9.96076517e-01],\n",
       "       [3.79490149e-01, 6.20509851e-01],\n",
       "       [2.91769389e-03, 9.97082306e-01],\n",
       "       [9.99965861e-01, 3.41387033e-05],\n",
       "       [8.55830979e-04, 9.99144169e-01],\n",
       "       [8.47674108e-01, 1.52325892e-01],\n",
       "       [5.87544000e-01, 4.12456000e-01],\n",
       "       [9.60858860e-01, 3.91411398e-02],\n",
       "       [3.61493171e-03, 9.96385068e-01],\n",
       "       [8.98805096e-02, 9.10119490e-01],\n",
       "       [1.09041894e-01, 8.90958106e-01],\n",
       "       [3.05204476e-03, 9.96947955e-01],\n",
       "       [8.94064679e-01, 1.05935321e-01],\n",
       "       [9.97522039e-01, 2.47796116e-03],\n",
       "       [9.74880892e-01, 2.51191075e-02],\n",
       "       [1.87556689e-01, 8.12443311e-01],\n",
       "       [9.55796177e-01, 4.42038234e-02],\n",
       "       [3.73578910e-02, 9.62642109e-01],\n",
       "       [9.99647123e-01, 3.52876685e-04],\n",
       "       [9.95338230e-01, 4.66177048e-03],\n",
       "       [2.01235552e-02, 9.79876445e-01],\n",
       "       [1.37965852e-02, 9.86203415e-01],\n",
       "       [9.99893212e-01, 1.06787605e-04],\n",
       "       [9.76026390e-01, 2.39736101e-02],\n",
       "       [3.60330651e-01, 6.39669349e-01],\n",
       "       [9.47906266e-01, 5.20937344e-02],\n",
       "       [8.41332362e-01, 1.58667638e-01],\n",
       "       [9.98742212e-01, 1.25778815e-03],\n",
       "       [4.51412104e-01, 5.48587896e-01],\n",
       "       [1.51202826e-01, 8.48797174e-01],\n",
       "       [9.86625318e-01, 1.33746821e-02],\n",
       "       [1.50674796e-02, 9.84932520e-01],\n",
       "       [9.99887626e-01, 1.12373898e-04],\n",
       "       [9.98312205e-01, 1.68779513e-03],\n",
       "       [2.86083953e-01, 7.13916047e-01],\n",
       "       [1.70415563e-02, 9.82958444e-01],\n",
       "       [7.46763431e-01, 2.53236569e-01],\n",
       "       [2.27015871e-03, 9.97729841e-01],\n",
       "       [9.96683708e-01, 3.31629163e-03],\n",
       "       [1.51607018e-01, 8.48392982e-01],\n",
       "       [7.70165018e-01, 2.29834982e-01],\n",
       "       [1.10484619e-03, 9.98895154e-01],\n",
       "       [1.76054154e-03, 9.98239458e-01],\n",
       "       [4.57883813e-02, 9.54211619e-01],\n",
       "       [3.03261610e-01, 6.96738390e-01],\n",
       "       [9.19763138e-01, 8.02368616e-02],\n",
       "       [2.29007733e-01, 7.70992267e-01],\n",
       "       [1.61600076e-03, 9.98383999e-01],\n",
       "       [6.07957466e-01, 3.92042534e-01],\n",
       "       [7.76659879e-01, 2.23340121e-01],\n",
       "       [9.92275147e-01, 7.72485268e-03],\n",
       "       [9.99676714e-01, 3.23286453e-04],\n",
       "       [4.58276690e-02, 9.54172331e-01],\n",
       "       [7.54125008e-01, 2.45874992e-01],\n",
       "       [1.17292094e-02, 9.88270791e-01],\n",
       "       [1.36272081e-03, 9.98637279e-01],\n",
       "       [1.87488216e-01, 8.12511784e-01],\n",
       "       [9.93729401e-01, 6.27059905e-03],\n",
       "       [9.38879189e-01, 6.11208108e-02],\n",
       "       [9.99912895e-01, 8.71053253e-05],\n",
       "       [5.03991755e-01, 4.96008245e-01],\n",
       "       [4.72066236e-01, 5.27933764e-01],\n",
       "       [1.21805470e-01, 8.78194530e-01],\n",
       "       [9.76939330e-01, 2.30606703e-02],\n",
       "       [3.09377673e-04, 9.99690622e-01],\n",
       "       [1.75154200e-01, 8.24845800e-01],\n",
       "       [4.58276690e-02, 9.54172331e-01],\n",
       "       [5.35996531e-01, 4.64003469e-01],\n",
       "       [5.16646179e-02, 9.48335382e-01],\n",
       "       [9.99485769e-01, 5.14231028e-04],\n",
       "       [5.38993026e-02, 9.46100697e-01],\n",
       "       [2.80345237e-02, 9.71965476e-01],\n",
       "       [9.94729589e-01, 5.27041098e-03],\n",
       "       [8.72829908e-03, 9.91271701e-01],\n",
       "       [8.03528074e-01, 1.96471926e-01],\n",
       "       [4.40699870e-01, 5.59300130e-01],\n",
       "       [9.78804794e-01, 2.11952062e-02],\n",
       "       [1.41168696e-01, 8.58831304e-01],\n",
       "       [7.07700890e-03, 9.92922991e-01],\n",
       "       [5.67486919e-01, 4.32513081e-01],\n",
       "       [9.98171126e-01, 1.82887405e-03],\n",
       "       [1.78067860e-02, 9.82193214e-01],\n",
       "       [4.22545805e-02, 9.57745419e-01],\n",
       "       [9.77080653e-01, 2.29193469e-02],\n",
       "       [4.38555348e-02, 9.56144465e-01],\n",
       "       [1.50275146e-02, 9.84972485e-01],\n",
       "       [6.34850665e-02, 9.36514933e-01],\n",
       "       [2.47306474e-03, 9.97526935e-01],\n",
       "       [3.04699141e-02, 9.69530086e-01],\n",
       "       [9.55510483e-01, 4.44895171e-02],\n",
       "       [4.94164462e-01, 5.05835538e-01],\n",
       "       [6.48329969e-01, 3.51670031e-01],\n",
       "       [9.91964337e-01, 8.03566260e-03],\n",
       "       [1.07463693e-02, 9.89253631e-01],\n",
       "       [1.12171879e-02, 9.88782812e-01],\n",
       "       [2.35884617e-03, 9.97641154e-01],\n",
       "       [9.83543512e-01, 1.64564884e-02],\n",
       "       [3.77112243e-03, 9.96228878e-01],\n",
       "       [1.57246049e-02, 9.84275395e-01],\n",
       "       [5.98549265e-01, 4.01450735e-01],\n",
       "       [1.38701564e-02, 9.86129844e-01],\n",
       "       [1.94182462e-01, 8.05817538e-01],\n",
       "       [9.99897605e-01, 1.02395133e-04],\n",
       "       [7.98045887e-01, 2.01954113e-01],\n",
       "       [6.77776043e-01, 3.22223957e-01],\n",
       "       [1.57446875e-01, 8.42553125e-01],\n",
       "       [3.30529956e-03, 9.96694700e-01],\n",
       "       [1.01408343e-03, 9.98985917e-01],\n",
       "       [2.16820601e-03, 9.97831794e-01],\n",
       "       [6.38382621e-01, 3.61617379e-01],\n",
       "       [9.09935194e-03, 9.90900648e-01],\n",
       "       [1.46338809e-01, 8.53661191e-01],\n",
       "       [9.86096536e-01, 1.39034638e-02],\n",
       "       [2.20797623e-04, 9.99779202e-01],\n",
       "       [9.99389822e-01, 6.10178074e-04],\n",
       "       [1.21469354e-01, 8.78530646e-01],\n",
       "       [1.87488216e-01, 8.12511784e-01],\n",
       "       [2.69594217e-02, 9.73040578e-01],\n",
       "       [9.99677004e-01, 3.22996097e-04],\n",
       "       [8.00575462e-02, 9.19942454e-01],\n",
       "       [9.91238931e-01, 8.76106937e-03],\n",
       "       [6.10339228e-04, 9.99389661e-01],\n",
       "       [2.10242182e-02, 9.78975782e-01],\n",
       "       [8.47325602e-01, 1.52674398e-01],\n",
       "       [4.09365143e-01, 5.90634857e-01],\n",
       "       [5.56261410e-01, 4.43738590e-01],\n",
       "       [3.99571875e-01, 6.00428125e-01],\n",
       "       [1.21517322e-01, 8.78482678e-01],\n",
       "       [9.53670338e-01, 4.63296618e-02],\n",
       "       [8.77789554e-01, 1.22210446e-01],\n",
       "       [9.99305437e-01, 6.94563056e-04],\n",
       "       [1.57385225e-02, 9.84261477e-01],\n",
       "       [1.12621385e-02, 9.88737861e-01],\n",
       "       [9.90423126e-01, 9.57687351e-03],\n",
       "       [1.63038602e-01, 8.36961398e-01],\n",
       "       [1.07750734e-02, 9.89224927e-01],\n",
       "       [9.81407299e-01, 1.85927006e-02],\n",
       "       [7.61993640e-01, 2.38006360e-01],\n",
       "       [9.88195473e-01, 1.18045266e-02],\n",
       "       [2.93554114e-02, 9.70644589e-01],\n",
       "       [9.96952858e-01, 3.04714233e-03],\n",
       "       [9.88237340e-01, 1.17626599e-02],\n",
       "       [2.38120725e-02, 9.76187927e-01],\n",
       "       [7.84166052e-01, 2.15833948e-01],\n",
       "       [9.06035486e-01, 9.39645139e-02],\n",
       "       [1.38173500e-04, 9.99861826e-01],\n",
       "       [1.94323146e-01, 8.05676854e-01],\n",
       "       [5.36181414e-04, 9.99463819e-01],\n",
       "       [2.79978092e-02, 9.72002191e-01],\n",
       "       [7.13729033e-02, 9.28627097e-01],\n",
       "       [9.41369934e-01, 5.86300658e-02],\n",
       "       [5.98094199e-03, 9.94019058e-01],\n",
       "       [6.85235323e-02, 9.31476468e-01],\n",
       "       [1.32894815e-02, 9.86710519e-01],\n",
       "       [5.25310785e-01, 4.74689215e-01],\n",
       "       [9.98562600e-01, 1.43740038e-03],\n",
       "       [3.03356578e-01, 6.96643422e-01],\n",
       "       [9.97304237e-01, 2.69576306e-03],\n",
       "       [1.27158654e-02, 9.87284135e-01],\n",
       "       [3.45588848e-03, 9.96544112e-01],\n",
       "       [1.44822442e-02, 9.85517756e-01],\n",
       "       [9.99969836e-01, 3.01643745e-05],\n",
       "       [5.16646179e-02, 9.48335382e-01],\n",
       "       [2.37494726e-02, 9.76250527e-01],\n",
       "       [9.50091356e-01, 4.99086439e-02],\n",
       "       [4.64426155e-03, 9.95355738e-01],\n",
       "       [9.96386020e-01, 3.61398010e-03],\n",
       "       [2.57773444e-03, 9.97422266e-01],\n",
       "       [2.68354277e-01, 7.31645723e-01],\n",
       "       [1.75089280e-01, 8.24910720e-01],\n",
       "       [2.38016280e-02, 9.76198372e-01],\n",
       "       [5.27651203e-03, 9.94723488e-01],\n",
       "       [8.41452313e-01, 1.58547687e-01],\n",
       "       [9.99360796e-01, 6.39203607e-04],\n",
       "       [1.51722664e-01, 8.48277336e-01],\n",
       "       [1.44566094e-02, 9.85543391e-01],\n",
       "       [9.96801121e-01, 3.19887864e-03],\n",
       "       [2.38225215e-02, 9.76177479e-01],\n",
       "       [3.31325168e-01, 6.68674832e-01],\n",
       "       [9.90837983e-01, 9.16201735e-03],\n",
       "       [9.94452902e-01, 5.54709840e-03],\n",
       "       [3.43616528e-02, 9.65638347e-01],\n",
       "       [9.90038548e-01, 9.96145154e-03],\n",
       "       [8.63255322e-02, 9.13674468e-01],\n",
       "       [1.17240011e-02, 9.88275999e-01],\n",
       "       [6.56143432e-02, 9.34385657e-01],\n",
       "       [6.30323394e-02, 9.36967661e-01],\n",
       "       [9.28435866e-01, 7.15641339e-02],\n",
       "       [1.84911882e-02, 9.81508812e-01],\n",
       "       [5.74401008e-03, 9.94255990e-01],\n",
       "       [2.28348383e-02, 9.77165162e-01],\n",
       "       [1.17396329e-02, 9.88260367e-01],\n",
       "       [2.92021344e-02, 9.70797866e-01],\n",
       "       [5.60819997e-02, 9.43918000e-01],\n",
       "       [1.22262619e-02, 9.87773738e-01],\n",
       "       [9.97305445e-01, 2.69455507e-03],\n",
       "       [3.79913551e-01, 6.20086449e-01],\n",
       "       [2.37807525e-02, 9.76219248e-01],\n",
       "       [9.93977738e-01, 6.02226205e-03],\n",
       "       [9.99564880e-01, 4.35120206e-04],\n",
       "       [9.99770413e-01, 2.29587471e-04],\n",
       "       [9.47928453e-01, 5.20715467e-02],\n",
       "       [7.21026823e-01, 2.78973177e-01],\n",
       "       [8.02702642e-03, 9.91972974e-01],\n",
       "       [1.36333254e-03, 9.98636667e-01],\n",
       "       [1.63038602e-01, 8.36961398e-01],\n",
       "       [5.67155967e-01, 4.32844033e-01],\n",
       "       [2.68441479e-03, 9.97315585e-01],\n",
       "       [9.95501052e-01, 4.49894823e-03],\n",
       "       [6.50753770e-03, 9.93492462e-01],\n",
       "       [4.26970634e-03, 9.95730294e-01],\n",
       "       [1.41059757e-01, 8.58940243e-01],\n",
       "       [1.21469354e-01, 8.78530646e-01],\n",
       "       [5.04553485e-01, 4.95446515e-01],\n",
       "       [1.40842088e-01, 8.59157912e-01],\n",
       "       [9.25748684e-01, 7.42513163e-02],\n",
       "       [9.99674528e-01, 3.25472460e-04],\n",
       "       [3.12017112e-01, 6.87982888e-01],\n",
       "       [2.56735591e-03, 9.97432644e-01],\n",
       "       [9.50293373e-03, 9.90497066e-01],\n",
       "       [1.17240011e-02, 9.88275999e-01],\n",
       "       [2.18871864e-02, 9.78112814e-01],\n",
       "       [1.93620498e-01, 8.06379502e-01],\n",
       "       [9.99544792e-01, 4.55208348e-04],\n",
       "       [5.26237785e-03, 9.94737622e-01],\n",
       "       [2.77582080e-01, 7.22417920e-01],\n",
       "       [1.12122044e-02, 9.88787796e-01],\n",
       "       [1.21565306e-01, 8.78434694e-01],\n",
       "       [2.01324190e-02, 9.79867581e-01],\n",
       "       [6.84653443e-01, 3.15346557e-01],\n",
       "       [9.99912777e-01, 8.72228341e-05],\n",
       "       [9.99480662e-01, 5.19337882e-04],\n",
       "       [9.36431525e-02, 9.06356847e-01],\n",
       "       [9.97994133e-01, 2.00586670e-03],\n",
       "       [3.59398893e-01, 6.40601107e-01],\n",
       "       [3.80231222e-01, 6.19768778e-01],\n",
       "       [8.97335652e-02, 9.10266435e-01],\n",
       "       [7.22200490e-01, 2.77799510e-01],\n",
       "       [1.63447540e-02, 9.83655246e-01],\n",
       "       [2.67240981e-03, 9.97327590e-01],\n",
       "       [1.51722664e-01, 8.48277336e-01],\n",
       "       [9.45815534e-01, 5.41844663e-02],\n",
       "       [9.66479117e-01, 3.35208832e-02],\n",
       "       [9.93180522e-01, 6.81947820e-03],\n",
       "       [7.39303069e-02, 9.26069693e-01],\n",
       "       [9.97919485e-01, 2.08051509e-03],\n",
       "       [5.59869128e-02, 9.44013087e-01],\n",
       "       [4.09256485e-01, 5.90743515e-01],\n",
       "       [2.57886109e-02, 9.74211389e-01],\n",
       "       [1.80706619e-01, 8.19293381e-01],\n",
       "       [6.30323394e-02, 9.36967661e-01],\n",
       "       [9.99909117e-01, 9.08827972e-05],\n",
       "       [9.99066547e-01, 9.33453396e-04],\n",
       "       [2.28348383e-02, 9.77165162e-01],\n",
       "       [2.52352689e-01, 7.47647311e-01],\n",
       "       [8.01272498e-03, 9.91987275e-01],\n",
       "       [1.27045862e-02, 9.87295414e-01],\n",
       "       [3.89318877e-02, 9.61068112e-01],\n",
       "       [9.93444602e-01, 6.55539798e-03],\n",
       "       [4.85121496e-03, 9.95148785e-01],\n",
       "       [4.41011744e-02, 9.55898826e-01],\n",
       "       [6.76400399e-01, 3.23599601e-01],\n",
       "       [9.82857180e-01, 1.71428200e-02],\n",
       "       [9.28682621e-04, 9.99071317e-01],\n",
       "       [3.44661903e-02, 9.65533810e-01],\n",
       "       [1.17344200e-02, 9.88265580e-01],\n",
       "       [9.99981048e-01, 1.89517921e-05],\n",
       "       [2.56620532e-03, 9.97433795e-01],\n",
       "       [4.30593428e-01, 5.69406572e-01],\n",
       "       [9.99892972e-01, 1.07027810e-04],\n",
       "       [7.40843001e-02, 9.25915700e-01],\n",
       "       [9.99169928e-01, 8.30071811e-04],\n",
       "       [3.44362912e-02, 9.65563709e-01],\n",
       "       [8.77209840e-01, 1.22790160e-01],\n",
       "       [2.94646574e-01, 7.05353426e-01],\n",
       "       [6.34794303e-04, 9.99365206e-01],\n",
       "       [5.51148322e-03, 9.94488517e-01],\n",
       "       [3.76268976e-03, 9.96237310e-01],\n",
       "       [7.13235218e-01, 2.86764782e-01],\n",
       "       [5.39910467e-02, 9.46008953e-01],\n",
       "       [8.70499951e-03, 9.91295000e-01],\n",
       "       [2.86543118e-01, 7.13456882e-01],\n",
       "       [9.84216775e-01, 1.57832245e-02],\n",
       "       [9.96812565e-01, 3.18743484e-03],\n",
       "       [2.76951670e-01, 7.23048330e-01],\n",
       "       [6.83516200e-02, 9.31648380e-01],\n",
       "       [9.85444373e-01, 1.45556272e-02],\n",
       "       [1.50608115e-02, 9.84939188e-01],\n",
       "       [1.38640107e-02, 9.86135989e-01],\n",
       "       [2.44426913e-01, 7.55573087e-01],\n",
       "       [9.99905176e-01, 9.48240701e-05],\n",
       "       [4.93265771e-01, 5.06734229e-01],\n",
       "       [9.72407644e-04, 9.99027592e-01],\n",
       "       [4.51078247e-01, 5.48921753e-01],\n",
       "       [3.59228978e-02, 9.64077102e-01],\n",
       "       [9.99872421e-01, 1.27579095e-04],\n",
       "       [1.92777030e-02, 9.80722297e-01],\n",
       "       [2.69149168e-01, 7.30850832e-01],\n",
       "       [1.85401913e-02, 9.81459809e-01],\n",
       "       [4.76387719e-02, 9.52361228e-01],\n",
       "       [9.85521527e-01, 1.44784734e-02],\n",
       "       [4.58669888e-02, 9.54133011e-01],\n",
       "       [3.16804514e-02, 9.68319549e-01],\n",
       "       [1.46002273e-01, 8.53997727e-01],\n",
       "       [1.15270886e-03, 9.98847291e-01],\n",
       "       [3.04566404e-02, 9.69543360e-01],\n",
       "       [1.01021328e-01, 8.98978672e-01],\n",
       "       [9.16194733e-01, 8.38052671e-02],\n",
       "       [9.09588248e-01, 9.04117520e-02],\n",
       "       [3.18827450e-03, 9.96811725e-01],\n",
       "       [1.69814348e-02, 9.83018565e-01],\n",
       "       [5.04699197e-03, 9.94953008e-01],\n",
       "       [7.98118309e-01, 2.01881691e-01],\n",
       "       [9.72917555e-01, 2.70824454e-02],\n",
       "       [9.81333351e-01, 1.86666491e-02],\n",
       "       [5.59674275e-04, 9.99440326e-01],\n",
       "       [4.39309768e-02, 9.56069023e-01],\n",
       "       [9.33598454e-01, 6.64015458e-02],\n",
       "       [7.09866431e-02, 9.29013357e-01],\n",
       "       [9.30917525e-01, 6.90824753e-02],\n",
       "       [9.99926499e-01, 7.35014895e-05],\n",
       "       [1.63881639e-02, 9.83611836e-01],\n",
       "       [1.17292094e-02, 9.88270791e-01],\n",
       "       [8.86565146e-01, 1.13434854e-01],\n",
       "       [3.51115679e-01, 6.48884321e-01],\n",
       "       [6.84948525e-02, 9.31505148e-01],\n",
       "       [2.29563660e-01, 7.70436340e-01],\n",
       "       [3.58141058e-02, 9.64185894e-01],\n",
       "       [2.28147909e-02, 9.77185209e-01],\n",
       "       [9.19597149e-01, 8.04028505e-02],\n",
       "       [5.59869128e-02, 9.44013087e-01],\n",
       "       [1.17336376e-01, 8.82663624e-01],\n",
       "       [4.58080211e-02, 9.54191979e-01],\n",
       "       [9.97727385e-01, 2.27261534e-03],\n",
       "       [1.40950887e-01, 8.59049113e-01],\n",
       "       [3.83204593e-04, 9.99616795e-01],\n",
       "       [9.99580705e-01, 4.19294977e-04],\n",
       "       [9.99748268e-01, 2.51732142e-04],\n",
       "       [2.92531403e-02, 9.70746860e-01],\n",
       "       [9.99872936e-01, 1.27064177e-04],\n",
       "       [9.99211872e-01, 7.88127556e-04],\n",
       "       [5.26207233e-01, 4.73792767e-01],\n",
       "       [9.94904455e-01, 5.09554462e-03],\n",
       "       [2.86175751e-01, 7.13824249e-01],\n",
       "       [1.40679021e-01, 8.59320979e-01],\n",
       "       [3.31716512e-03, 9.96682835e-01],\n",
       "       [3.58451568e-02, 9.64154843e-01],\n",
       "       [7.39610820e-02, 9.26038918e-01],\n",
       "       [1.15270886e-03, 9.98847291e-01],\n",
       "       [9.98299283e-01, 1.70071741e-03],\n",
       "       [6.76990336e-01, 3.23009664e-01],\n",
       "       [1.68672621e-03, 9.98313274e-01],\n",
       "       [9.95152229e-01, 4.84777089e-03],\n",
       "       [2.84892191e-01, 7.15107809e-01],\n",
       "       [5.72863082e-03, 9.94271369e-01],\n",
       "       [3.75763918e-03, 9.96242361e-01],\n",
       "       [3.04964782e-02, 9.69503522e-01],\n",
       "       [1.87009450e-01, 8.12990550e-01],\n",
       "       [9.99888029e-01, 1.11970647e-04],\n",
       "       [3.93051449e-03, 9.96069486e-01],\n",
       "       [9.96947392e-01, 3.05260827e-03],\n",
       "       [3.04566404e-02, 9.69543360e-01],\n",
       "       [8.90852748e-01, 1.09147252e-01],\n",
       "       [7.04286393e-01, 2.95713607e-01],\n",
       "       [4.27735590e-03, 9.95722644e-01],\n",
       "       [1.57037512e-02, 9.84296249e-01],\n",
       "       [2.44343923e-01, 7.55656077e-01],\n",
       "       [9.97820670e-01, 2.17933050e-03],\n",
       "       [9.97908258e-01, 2.09174209e-03],\n",
       "       [7.70966860e-03, 9.92290331e-01],\n",
       "       [1.85565540e-02, 9.81443446e-01],\n",
       "       [9.99023474e-01, 9.76525550e-04],\n",
       "       [3.91997162e-03, 9.96080028e-01],\n",
       "       [2.47974405e-02, 9.75202560e-01],\n",
       "       [4.72066236e-01, 5.27933764e-01],\n",
       "       [3.58762338e-02, 9.64123766e-01],\n",
       "       [9.08720341e-03, 9.90912797e-01],\n",
       "       [1.27497622e-02, 9.87250238e-01],\n",
       "       [1.27328027e-02, 9.87267197e-01],\n",
       "       [9.80513777e-01, 1.94862227e-02],\n",
       "       [6.51044391e-03, 9.93489556e-01],\n",
       "       [7.20574604e-01, 2.79425396e-01],\n",
       "       [1.30877036e-01, 8.69122964e-01],\n",
       "       [1.17344200e-02, 9.88265580e-01],\n",
       "       [1.93543222e-02, 9.80645678e-01],\n",
       "       [1.12785106e-01, 8.87214894e-01],\n",
       "       [6.77272553e-03, 9.93227274e-01],\n",
       "       [4.08928814e-03, 9.95910712e-01],\n",
       "       [9.70498098e-01, 2.95019021e-02],\n",
       "       [7.53896333e-04, 9.99246104e-01],\n",
       "       [9.55720163e-01, 4.42798369e-02],\n",
       "       [1.17522686e-01, 8.82477314e-01],\n",
       "       [8.76726912e-03, 9.91232731e-01],\n",
       "       [7.20845989e-01, 2.79154011e-01],\n",
       "       [8.47848116e-01, 1.52151884e-01],\n",
       "       [1.93628539e-02, 9.80637146e-01],\n",
       "       [9.99788719e-01, 2.11280597e-04],\n",
       "       [2.68770188e-02, 9.73122981e-01],\n",
       "       [2.10149702e-02, 9.78985030e-01],\n",
       "       [9.98515084e-01, 1.48491558e-03],\n",
       "       [1.81239526e-01, 8.18760474e-01],\n",
       "       [9.38879189e-01, 6.11208108e-02],\n",
       "       [7.76425926e-01, 2.23574074e-01],\n",
       "       [5.16426030e-02, 9.48357397e-01],\n",
       "       [1.83593337e-03, 9.98164067e-01],\n",
       "       [7.38826658e-03, 9.92611733e-01],\n",
       "       [4.40065427e-02, 9.55993457e-01],\n",
       "       [1.86804552e-01, 8.13195448e-01],\n",
       "       [9.80608008e-01, 1.93919921e-02],\n",
       "       [9.94715433e-01, 5.28456663e-03],\n",
       "       [9.31493331e-01, 6.85066687e-02]])"
      ]
     },
     "execution_count": 32,
     "metadata": {},
     "output_type": "execute_result"
    }
   ],
   "source": [
    "log_model.predict_proba(scaled_X_test)"
   ]
  },
  {
   "cell_type": "code",
   "execution_count": 33,
   "id": "83b37e1a",
   "metadata": {},
   "outputs": [
    {
     "data": {
      "text/plain": [
       "array([0.02384343, 0.97615657])"
      ]
     },
     "execution_count": 33,
     "metadata": {},
     "output_type": "execute_result"
    }
   ],
   "source": [
    "log_model.predict_proba(scaled_X_test)[0]"
   ]
  },
  {
   "cell_type": "code",
   "execution_count": 35,
   "id": "43d0a6a9",
   "metadata": {},
   "outputs": [
    {
     "data": {
      "text/plain": [
       "1"
      ]
     },
     "execution_count": 35,
     "metadata": {},
     "output_type": "execute_result"
    }
   ],
   "source": [
    "log_model.predict(scaled_X_test)[0]"
   ]
  },
  {
   "cell_type": "code",
   "execution_count": 34,
   "id": "e3b7101c",
   "metadata": {},
   "outputs": [
    {
     "data": {
      "text/plain": [
       "1"
      ]
     },
     "execution_count": 34,
     "metadata": {},
     "output_type": "execute_result"
    }
   ],
   "source": [
    "y_test[0]"
   ]
  }
 ],
 "metadata": {
  "kernelspec": {
   "display_name": "Python 3 (ipykernel)",
   "language": "python",
   "name": "python3"
  },
  "language_info": {
   "codemirror_mode": {
    "name": "ipython",
    "version": 3
   },
   "file_extension": ".py",
   "mimetype": "text/x-python",
   "name": "python",
   "nbconvert_exporter": "python",
   "pygments_lexer": "ipython3",
   "version": "3.9.7"
  }
 },
 "nbformat": 4,
 "nbformat_minor": 5
}
