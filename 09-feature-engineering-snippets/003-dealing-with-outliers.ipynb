{
 "cells": [
  {
   "cell_type": "code",
   "execution_count": 1,
   "id": "7d311b4c",
   "metadata": {},
   "outputs": [],
   "source": [
    "import numpy as np\n",
    "import pandas as pd\n",
    "import matplotlib.pyplot as plt\n",
    "import seaborn as sns"
   ]
  },
  {
   "cell_type": "code",
   "execution_count": 2,
   "id": "eeeb754a",
   "metadata": {},
   "outputs": [],
   "source": [
    "def create_ages(mu=50, sigma=13, num_samples=100, seed=42):\n",
    "    np.random.seed(seed)\n",
    "    \n",
    "    sample_ages = np.random.normal(loc=mu, scale=sigma, size=num_samples)\n",
    "    sample_ages = np.round(sample_ages, decimals=0)\n",
    "    \n",
    "    return sample_ages"
   ]
  },
  {
   "cell_type": "code",
   "execution_count": 3,
   "id": "79bda258",
   "metadata": {},
   "outputs": [],
   "source": [
    "sample = create_ages()"
   ]
  },
  {
   "cell_type": "code",
   "execution_count": 4,
   "id": "5c8d5e2d",
   "metadata": {},
   "outputs": [
    {
     "data": {
      "text/plain": [
       "array([56., 48., 58., 70., 47., 47., 71., 60., 44., 57., 44., 44., 53.,\n",
       "       25., 28., 43., 37., 54., 38., 32., 69., 47., 51., 31., 43., 51.,\n",
       "       35., 55., 42., 46., 42., 74., 50., 36., 61., 34., 53., 25., 33.,\n",
       "       53., 60., 52., 48., 46., 31., 41., 44., 64., 54., 27., 54., 45.,\n",
       "       41., 58., 63., 62., 39., 46., 54., 63., 44., 48., 36., 34., 61.,\n",
       "       68., 49., 63., 55., 42., 55., 70., 50., 70., 16., 61., 51., 46.,\n",
       "       51., 24., 47., 55., 69., 43., 39., 43., 62., 54., 43., 57., 51.,\n",
       "       63., 41., 46., 45., 31., 54., 53., 50., 47.])"
      ]
     },
     "execution_count": 4,
     "metadata": {},
     "output_type": "execute_result"
    }
   ],
   "source": [
    "sample"
   ]
  },
  {
   "cell_type": "code",
   "execution_count": 5,
   "id": "d47d15a4",
   "metadata": {},
   "outputs": [
    {
     "data": {
      "text/plain": [
       "<seaborn.axisgrid.FacetGrid at 0x7f907c6180d0>"
      ]
     },
     "execution_count": 5,
     "metadata": {},
     "output_type": "execute_result"
    },
    {
     "data": {
      "image/png": "[encoded data removed]",
      "text/plain": [
       "<Figure size 360x360 with 1 Axes>"
      ]
     },
     "metadata": {
      "needs_background": "light"
     },
     "output_type": "display_data"
    }
   ],
   "source": [
    "sns.displot(sample)"
   ]
  },
  {
   "cell_type": "code",
   "execution_count": 6,
   "id": "811b8911",
   "metadata": {},
   "outputs": [
    {
     "data": {
      "text/plain": [
       "<seaborn.axisgrid.FacetGrid at 0x7f9097915550>"
      ]
     },
     "execution_count": 6,
     "metadata": {},
     "output_type": "execute_result"
    },
    {
     "data": {
      "image/png": "[encoded data removed]",
      "text/plain": [
       "<Figure size 360x360 with 1 Axes>"
      ]
     },
     "metadata": {
      "needs_background": "light"
     },
     "output_type": "display_data"
    }
   ],
   "source": [
    "sns.displot(sample, bins=20)"
   ]
  },
  {
   "cell_type": "code",
   "execution_count": 10,
   "id": "be65b641",
   "metadata": {},
   "outputs": [
    {
     "data": {
      "text/plain": [
       "<AxesSubplot:>"
      ]
     },
     "execution_count": 10,
     "metadata": {},
     "output_type": "execute_result"
    },
    {
     "data": {
      "image/png": "[encoded data removed]",
      "text/plain": [
       "<Figure size 432x288 with 1 Axes>"
      ]
     },
     "metadata": {
      "needs_background": "light"
     },
     "output_type": "display_data"
    }
   ],
   "source": [
    "sns.boxplot(x=sample)"
   ]
  },
  {
   "cell_type": "code",
   "execution_count": 11,
   "id": "56269fd1",
   "metadata": {},
   "outputs": [],
   "source": [
    "ser = pd.Series(sample)"
   ]
  },
  {
   "cell_type": "code",
   "execution_count": 12,
   "id": "4c84f5f8",
   "metadata": {},
   "outputs": [
    {
     "data": {
      "text/plain": [
       "0     56.0\n",
       "1     48.0\n",
       "2     58.0\n",
       "3     70.0\n",
       "4     47.0\n",
       "      ... \n",
       "95    31.0\n",
       "96    54.0\n",
       "97    53.0\n",
       "98    50.0\n",
       "99    47.0\n",
       "Length: 100, dtype: float64"
      ]
     },
     "execution_count": 12,
     "metadata": {},
     "output_type": "execute_result"
    }
   ],
   "source": [
    "ser"
   ]
  },
  {
   "cell_type": "code",
   "execution_count": 13,
   "id": "66fdbdfc",
   "metadata": {},
   "outputs": [
    {
     "data": {
      "text/plain": [
       "count    100.00000\n",
       "mean      48.66000\n",
       "std       11.82039\n",
       "min       16.00000\n",
       "25%       42.00000\n",
       "50%       48.00000\n",
       "75%       55.25000\n",
       "max       74.00000\n",
       "dtype: float64"
      ]
     },
     "execution_count": 13,
     "metadata": {},
     "output_type": "execute_result"
    }
   ],
   "source": [
    "ser.describe()"
   ]
  },
  {
   "cell_type": "code",
   "execution_count": 14,
   "id": "4d1e4bc6",
   "metadata": {},
   "outputs": [],
   "source": [
    "IQR = 55.25000 - 42.00000\n",
    "lower_limit = 42.00000 - 1.5 * IQR"
   ]
  },
  {
   "cell_type": "code",
   "execution_count": 15,
   "id": "f56ffba1",
   "metadata": {},
   "outputs": [
    {
     "data": {
      "text/plain": [
       "22.125"
      ]
     },
     "execution_count": 15,
     "metadata": {},
     "output_type": "execute_result"
    }
   ],
   "source": [
    "lower_limit"
   ]
  },
  {
   "cell_type": "code",
   "execution_count": 17,
   "id": "7863dab8",
   "metadata": {},
   "outputs": [
    {
     "data": {
      "text/plain": [
       "0     56.0\n",
       "1     48.0\n",
       "2     58.0\n",
       "3     70.0\n",
       "4     47.0\n",
       "      ... \n",
       "95    31.0\n",
       "96    54.0\n",
       "97    53.0\n",
       "98    50.0\n",
       "99    47.0\n",
       "Length: 99, dtype: float64"
      ]
     },
     "execution_count": 17,
     "metadata": {},
     "output_type": "execute_result"
    }
   ],
   "source": [
    "ser[ser > lower_limit]"
   ]
  },
  {
   "cell_type": "code",
   "execution_count": 18,
   "id": "7b177cc2",
   "metadata": {},
   "outputs": [
    {
     "data": {
      "text/plain": [
       "array([55.25, 42.  ])"
      ]
     },
     "execution_count": 18,
     "metadata": {},
     "output_type": "execute_result"
    }
   ],
   "source": [
    "np.percentile(sample, [75, 25])"
   ]
  },
  {
   "cell_type": "code",
   "execution_count": 19,
   "id": "1eb82dd0",
   "metadata": {},
   "outputs": [
    {
     "data": {
      "text/plain": [
       "55.25"
      ]
     },
     "execution_count": 19,
     "metadata": {},
     "output_type": "execute_result"
    }
   ],
   "source": [
    "np.percentile(sample, 75)"
   ]
  },
  {
   "cell_type": "code",
   "execution_count": 20,
   "id": "e18eb0e3",
   "metadata": {},
   "outputs": [],
   "source": [
    "q75, q25 = np.percentile(sample, [75, 25])"
   ]
  },
  {
   "cell_type": "code",
   "execution_count": 21,
   "id": "27335d08",
   "metadata": {},
   "outputs": [
    {
     "data": {
      "text/plain": [
       "55.25"
      ]
     },
     "execution_count": 21,
     "metadata": {},
     "output_type": "execute_result"
    }
   ],
   "source": [
    "q75"
   ]
  },
  {
   "cell_type": "code",
   "execution_count": 22,
   "id": "cc3b9c3a",
   "metadata": {},
   "outputs": [
    {
     "data": {
      "text/plain": [
       "42.0"
      ]
     },
     "execution_count": 22,
     "metadata": {},
     "output_type": "execute_result"
    }
   ],
   "source": [
    "q25"
   ]
  },
  {
   "cell_type": "code",
   "execution_count": 23,
   "id": "cd3234c9",
   "metadata": {},
   "outputs": [],
   "source": [
    "iqr = q75 - q25"
   ]
  },
  {
   "cell_type": "code",
   "execution_count": 25,
   "id": "4e178303",
   "metadata": {},
   "outputs": [
    {
     "data": {
      "text/plain": [
       "19.875"
      ]
     },
     "execution_count": 25,
     "metadata": {},
     "output_type": "execute_result"
    }
   ],
   "source": [
    "1.5 * iqr"
   ]
  },
  {
   "cell_type": "code",
   "execution_count": 26,
   "id": "ec9b4d5f",
   "metadata": {},
   "outputs": [
    {
     "data": {
      "text/plain": [
       "22.125"
      ]
     },
     "execution_count": 26,
     "metadata": {},
     "output_type": "execute_result"
    }
   ],
   "source": [
    "q25 - 1.5 * iqr"
   ]
  },
  {
   "cell_type": "code",
   "execution_count": 27,
   "id": "0391aef1",
   "metadata": {},
   "outputs": [],
   "source": [
    "df = pd.read_csv('../data/Ames_Housing_Data.csv')"
   ]
  },
  {
   "cell_type": "code",
   "execution_count": 28,
   "id": "6b3515d5",
   "metadata": {},
   "outputs": [
    {
     "data": {
      "text/html": [
       "<div>\n",
       "<style scoped>\n",
       "    .dataframe tbody tr th:only-of-type {\n",
       "        vertical-align: middle;\n",
       "    }\n",
       "\n",
       "    .dataframe tbody tr th {\n",
       "        vertical-align: top;\n",
       "    }\n",
       "\n",
       "    .dataframe thead th {\n",
       "        text-align: right;\n",
       "    }\n",
       "</style>\n",
       "<table border=\"1\" class=\"dataframe\">\n",
       "  <thead>\n",
       "    <tr style=\"text-align: right;\">\n",
       "      <th></th>\n",
       "      <th>PID</th>\n",
       "      <th>MS SubClass</th>\n",
       "      <th>MS Zoning</th>\n",
       "      <th>Lot Frontage</th>\n",
       "      <th>Lot Area</th>\n",
       "      <th>Street</th>\n",
       "      <th>Alley</th>\n",
       "      <th>Lot Shape</th>\n",
       "      <th>Land Contour</th>\n",
       "      <th>Utilities</th>\n",
       "      <th>...</th>\n",
       "      <th>Pool Area</th>\n",
       "      <th>Pool QC</th>\n",
       "      <th>Fence</th>\n",
       "      <th>Misc Feature</th>\n",
       "      <th>Misc Val</th>\n",
       "      <th>Mo Sold</th>\n",
       "      <th>Yr Sold</th>\n",
       "      <th>Sale Type</th>\n",
       "      <th>Sale Condition</th>\n",
       "      <th>SalePrice</th>\n",
       "    </tr>\n",
       "  </thead>\n",
       "  <tbody>\n",
       "    <tr>\n",
       "      <th>0</th>\n",
       "      <td>526301100</td>\n",
       "      <td>20</td>\n",
       "      <td>RL</td>\n",
       "      <td>141.0</td>\n",
       "      <td>31770</td>\n",
       "      <td>Pave</td>\n",
       "      <td>NaN</td>\n",
       "      <td>IR1</td>\n",
       "      <td>Lvl</td>\n",
       "      <td>AllPub</td>\n",
       "      <td>...</td>\n",
       "      <td>0</td>\n",
       "      <td>NaN</td>\n",
       "      <td>NaN</td>\n",
       "      <td>NaN</td>\n",
       "      <td>0</td>\n",
       "      <td>5</td>\n",
       "      <td>2010</td>\n",
       "      <td>WD</td>\n",
       "      <td>Normal</td>\n",
       "      <td>215000</td>\n",
       "    </tr>\n",
       "    <tr>\n",
       "      <th>1</th>\n",
       "      <td>526350040</td>\n",
       "      <td>20</td>\n",
       "      <td>RH</td>\n",
       "      <td>80.0</td>\n",
       "      <td>11622</td>\n",
       "      <td>Pave</td>\n",
       "      <td>NaN</td>\n",
       "      <td>Reg</td>\n",
       "      <td>Lvl</td>\n",
       "      <td>AllPub</td>\n",
       "      <td>...</td>\n",
       "      <td>0</td>\n",
       "      <td>NaN</td>\n",
       "      <td>MnPrv</td>\n",
       "      <td>NaN</td>\n",
       "      <td>0</td>\n",
       "      <td>6</td>\n",
       "      <td>2010</td>\n",
       "      <td>WD</td>\n",
       "      <td>Normal</td>\n",
       "      <td>105000</td>\n",
       "    </tr>\n",
       "    <tr>\n",
       "      <th>2</th>\n",
       "      <td>526351010</td>\n",
       "      <td>20</td>\n",
       "      <td>RL</td>\n",
       "      <td>81.0</td>\n",
       "      <td>14267</td>\n",
       "      <td>Pave</td>\n",
       "      <td>NaN</td>\n",
       "      <td>IR1</td>\n",
       "      <td>Lvl</td>\n",
       "      <td>AllPub</td>\n",
       "      <td>...</td>\n",
       "      <td>0</td>\n",
       "      <td>NaN</td>\n",
       "      <td>NaN</td>\n",
       "      <td>Gar2</td>\n",
       "      <td>12500</td>\n",
       "      <td>6</td>\n",
       "      <td>2010</td>\n",
       "      <td>WD</td>\n",
       "      <td>Normal</td>\n",
       "      <td>172000</td>\n",
       "    </tr>\n",
       "    <tr>\n",
       "      <th>3</th>\n",
       "      <td>526353030</td>\n",
       "      <td>20</td>\n",
       "      <td>RL</td>\n",
       "      <td>93.0</td>\n",
       "      <td>11160</td>\n",
       "      <td>Pave</td>\n",
       "      <td>NaN</td>\n",
       "      <td>Reg</td>\n",
       "      <td>Lvl</td>\n",
       "      <td>AllPub</td>\n",
       "      <td>...</td>\n",
       "      <td>0</td>\n",
       "      <td>NaN</td>\n",
       "      <td>NaN</td>\n",
       "      <td>NaN</td>\n",
       "      <td>0</td>\n",
       "      <td>4</td>\n",
       "      <td>2010</td>\n",
       "      <td>WD</td>\n",
       "      <td>Normal</td>\n",
       "      <td>244000</td>\n",
       "    </tr>\n",
       "    <tr>\n",
       "      <th>4</th>\n",
       "      <td>527105010</td>\n",
       "      <td>60</td>\n",
       "      <td>RL</td>\n",
       "      <td>74.0</td>\n",
       "      <td>13830</td>\n",
       "      <td>Pave</td>\n",
       "      <td>NaN</td>\n",
       "      <td>IR1</td>\n",
       "      <td>Lvl</td>\n",
       "      <td>AllPub</td>\n",
       "      <td>...</td>\n",
       "      <td>0</td>\n",
       "      <td>NaN</td>\n",
       "      <td>MnPrv</td>\n",
       "      <td>NaN</td>\n",
       "      <td>0</td>\n",
       "      <td>3</td>\n",
       "      <td>2010</td>\n",
       "      <td>WD</td>\n",
       "      <td>Normal</td>\n",
       "      <td>189900</td>\n",
       "    </tr>\n",
       "    <tr>\n",
       "      <th>...</th>\n",
       "      <td>...</td>\n",
       "      <td>...</td>\n",
       "      <td>...</td>\n",
       "      <td>...</td>\n",
       "      <td>...</td>\n",
       "      <td>...</td>\n",
       "      <td>...</td>\n",
       "      <td>...</td>\n",
       "      <td>...</td>\n",
       "      <td>...</td>\n",
       "      <td>...</td>\n",
       "      <td>...</td>\n",
       "      <td>...</td>\n",
       "      <td>...</td>\n",
       "      <td>...</td>\n",
       "      <td>...</td>\n",
       "      <td>...</td>\n",
       "      <td>...</td>\n",
       "      <td>...</td>\n",
       "      <td>...</td>\n",
       "      <td>...</td>\n",
       "    </tr>\n",
       "    <tr>\n",
       "      <th>2925</th>\n",
       "      <td>923275080</td>\n",
       "      <td>80</td>\n",
       "      <td>RL</td>\n",
       "      <td>37.0</td>\n",
       "      <td>7937</td>\n",
       "      <td>Pave</td>\n",
       "      <td>NaN</td>\n",
       "      <td>IR1</td>\n",
       "      <td>Lvl</td>\n",
       "      <td>AllPub</td>\n",
       "      <td>...</td>\n",
       "      <td>0</td>\n",
       "      <td>NaN</td>\n",
       "      <td>GdPrv</td>\n",
       "      <td>NaN</td>\n",
       "      <td>0</td>\n",
       "      <td>3</td>\n",
       "      <td>2006</td>\n",
       "      <td>WD</td>\n",
       "      <td>Normal</td>\n",
       "      <td>142500</td>\n",
       "    </tr>\n",
       "    <tr>\n",
       "      <th>2926</th>\n",
       "      <td>923276100</td>\n",
       "      <td>20</td>\n",
       "      <td>RL</td>\n",
       "      <td>NaN</td>\n",
       "      <td>8885</td>\n",
       "      <td>Pave</td>\n",
       "      <td>NaN</td>\n",
       "      <td>IR1</td>\n",
       "      <td>Low</td>\n",
       "      <td>AllPub</td>\n",
       "      <td>...</td>\n",
       "      <td>0</td>\n",
       "      <td>NaN</td>\n",
       "      <td>MnPrv</td>\n",
       "      <td>NaN</td>\n",
       "      <td>0</td>\n",
       "      <td>6</td>\n",
       "      <td>2006</td>\n",
       "      <td>WD</td>\n",
       "      <td>Normal</td>\n",
       "      <td>131000</td>\n",
       "    </tr>\n",
       "    <tr>\n",
       "      <th>2927</th>\n",
       "      <td>923400125</td>\n",
       "      <td>85</td>\n",
       "      <td>RL</td>\n",
       "      <td>62.0</td>\n",
       "      <td>10441</td>\n",
       "      <td>Pave</td>\n",
       "      <td>NaN</td>\n",
       "      <td>Reg</td>\n",
       "      <td>Lvl</td>\n",
       "      <td>AllPub</td>\n",
       "      <td>...</td>\n",
       "      <td>0</td>\n",
       "      <td>NaN</td>\n",
       "      <td>MnPrv</td>\n",
       "      <td>Shed</td>\n",
       "      <td>700</td>\n",
       "      <td>7</td>\n",
       "      <td>2006</td>\n",
       "      <td>WD</td>\n",
       "      <td>Normal</td>\n",
       "      <td>132000</td>\n",
       "    </tr>\n",
       "    <tr>\n",
       "      <th>2928</th>\n",
       "      <td>924100070</td>\n",
       "      <td>20</td>\n",
       "      <td>RL</td>\n",
       "      <td>77.0</td>\n",
       "      <td>10010</td>\n",
       "      <td>Pave</td>\n",
       "      <td>NaN</td>\n",
       "      <td>Reg</td>\n",
       "      <td>Lvl</td>\n",
       "      <td>AllPub</td>\n",
       "      <td>...</td>\n",
       "      <td>0</td>\n",
       "      <td>NaN</td>\n",
       "      <td>NaN</td>\n",
       "      <td>NaN</td>\n",
       "      <td>0</td>\n",
       "      <td>4</td>\n",
       "      <td>2006</td>\n",
       "      <td>WD</td>\n",
       "      <td>Normal</td>\n",
       "      <td>170000</td>\n",
       "    </tr>\n",
       "    <tr>\n",
       "      <th>2929</th>\n",
       "      <td>924151050</td>\n",
       "      <td>60</td>\n",
       "      <td>RL</td>\n",
       "      <td>74.0</td>\n",
       "      <td>9627</td>\n",
       "      <td>Pave</td>\n",
       "      <td>NaN</td>\n",
       "      <td>Reg</td>\n",
       "      <td>Lvl</td>\n",
       "      <td>AllPub</td>\n",
       "      <td>...</td>\n",
       "      <td>0</td>\n",
       "      <td>NaN</td>\n",
       "      <td>NaN</td>\n",
       "      <td>NaN</td>\n",
       "      <td>0</td>\n",
       "      <td>11</td>\n",
       "      <td>2006</td>\n",
       "      <td>WD</td>\n",
       "      <td>Normal</td>\n",
       "      <td>188000</td>\n",
       "    </tr>\n",
       "  </tbody>\n",
       "</table>\n",
       "<p>2930 rows × 81 columns</p>\n",
       "</div>"
      ],
      "text/plain": [
       "            PID  MS SubClass MS Zoning  Lot Frontage  Lot Area Street Alley  \\\n",
       "0     526301100           20        RL         141.0     31770   Pave   NaN   \n",
       "1     526350040           20        RH          80.0     11622   Pave   NaN   \n",
       "2     526351010           20        RL          81.0     14267   Pave   NaN   \n",
       "3     526353030           20        RL          93.0     11160   Pave   NaN   \n",
       "4     527105010           60        RL          74.0     13830   Pave   NaN   \n",
       "...         ...          ...       ...           ...       ...    ...   ...   \n",
       "2925  923275080           80        RL          37.0      7937   Pave   NaN   \n",
       "2926  923276100           20        RL           NaN      8885   Pave   NaN   \n",
       "2927  923400125           85        RL          62.0     10441   Pave   NaN   \n",
       "2928  924100070           20        RL          77.0     10010   Pave   NaN   \n",
       "2929  924151050           60        RL          74.0      9627   Pave   NaN   \n",
       "\n",
       "     Lot Shape Land Contour Utilities  ... Pool Area Pool QC  Fence  \\\n",
       "0          IR1          Lvl    AllPub  ...         0     NaN    NaN   \n",
       "1          Reg          Lvl    AllPub  ...         0     NaN  MnPrv   \n",
       "2          IR1          Lvl    AllPub  ...         0     NaN    NaN   \n",
       "3          Reg          Lvl    AllPub  ...         0     NaN    NaN   \n",
       "4          IR1          Lvl    AllPub  ...         0     NaN  MnPrv   \n",
       "...        ...          ...       ...  ...       ...     ...    ...   \n",
       "2925       IR1          Lvl    AllPub  ...         0     NaN  GdPrv   \n",
       "2926       IR1          Low    AllPub  ...         0     NaN  MnPrv   \n",
       "2927       Reg          Lvl    AllPub  ...         0     NaN  MnPrv   \n",
       "2928       Reg          Lvl    AllPub  ...         0     NaN    NaN   \n",
       "2929       Reg          Lvl    AllPub  ...         0     NaN    NaN   \n",
       "\n",
       "     Misc Feature Misc Val Mo Sold Yr Sold  Sale Type  Sale Condition  \\\n",
       "0             NaN        0       5    2010        WD           Normal   \n",
       "1             NaN        0       6    2010        WD           Normal   \n",
       "2            Gar2    12500       6    2010        WD           Normal   \n",
       "3             NaN        0       4    2010        WD           Normal   \n",
       "4             NaN        0       3    2010        WD           Normal   \n",
       "...           ...      ...     ...     ...        ...             ...   \n",
       "2925          NaN        0       3    2006        WD           Normal   \n",
       "2926          NaN        0       6    2006        WD           Normal   \n",
       "2927         Shed      700       7    2006        WD           Normal   \n",
       "2928          NaN        0       4    2006        WD           Normal   \n",
       "2929          NaN        0      11    2006        WD           Normal   \n",
       "\n",
       "      SalePrice  \n",
       "0        215000  \n",
       "1        105000  \n",
       "2        172000  \n",
       "3        244000  \n",
       "4        189900  \n",
       "...         ...  \n",
       "2925     142500  \n",
       "2926     131000  \n",
       "2927     132000  \n",
       "2928     170000  \n",
       "2929     188000  \n",
       "\n",
       "[2930 rows x 81 columns]"
      ]
     },
     "execution_count": 28,
     "metadata": {},
     "output_type": "execute_result"
    }
   ],
   "source": [
    "df"
   ]
  },
  {
   "cell_type": "code",
   "execution_count": 30,
   "id": "c45bea17",
   "metadata": {},
   "outputs": [
    {
     "name": "stdout",
     "output_type": "stream",
     "text": [
      "<class 'pandas.core.frame.DataFrame'>\n",
      "RangeIndex: 2930 entries, 0 to 2929\n",
      "Data columns (total 81 columns):\n",
      " #   Column           Non-Null Count  Dtype  \n",
      "---  ------           --------------  -----  \n",
      " 0   PID              2930 non-null   int64  \n",
      " 1   MS SubClass      2930 non-null   int64  \n",
      " 2   MS Zoning        2930 non-null   object \n",
      " 3   Lot Frontage     2440 non-null   float64\n",
      " 4   Lot Area         2930 non-null   int64  \n",
      " 5   Street           2930 non-null   object \n",
      " 6   Alley            198 non-null    object \n",
      " 7   Lot Shape        2930 non-null   object \n",
      " 8   Land Contour     2930 non-null   object \n",
      " 9   Utilities        2930 non-null   object \n",
      " 10  Lot Config       2930 non-null   object \n",
      " 11  Land Slope       2930 non-null   object \n",
      " 12  Neighborhood     2930 non-null   object \n",
      " 13  Condition 1      2930 non-null   object \n",
      " 14  Condition 2      2930 non-null   object \n",
      " 15  Bldg Type        2930 non-null   object \n",
      " 16  House Style      2930 non-null   object \n",
      " 17  Overall Qual     2930 non-null   int64  \n",
      " 18  Overall Cond     2930 non-null   int64  \n",
      " 19  Year Built       2930 non-null   int64  \n",
      " 20  Year Remod/Add   2930 non-null   int64  \n",
      " 21  Roof Style       2930 non-null   object \n",
      " 22  Roof Matl        2930 non-null   object \n",
      " 23  Exterior 1st     2930 non-null   object \n",
      " 24  Exterior 2nd     2930 non-null   object \n",
      " 25  Mas Vnr Type     2907 non-null   object \n",
      " 26  Mas Vnr Area     2907 non-null   float64\n",
      " 27  Exter Qual       2930 non-null   object \n",
      " 28  Exter Cond       2930 non-null   object \n",
      " 29  Foundation       2930 non-null   object \n",
      " 30  Bsmt Qual        2850 non-null   object \n",
      " 31  Bsmt Cond        2850 non-null   object \n",
      " 32  Bsmt Exposure    2847 non-null   object \n",
      " 33  BsmtFin Type 1   2850 non-null   object \n",
      " 34  BsmtFin SF 1     2929 non-null   float64\n",
      " 35  BsmtFin Type 2   2849 non-null   object \n",
      " 36  BsmtFin SF 2     2929 non-null   float64\n",
      " 37  Bsmt Unf SF      2929 non-null   float64\n",
      " 38  Total Bsmt SF    2929 non-null   float64\n",
      " 39  Heating          2930 non-null   object \n",
      " 40  Heating QC       2930 non-null   object \n",
      " 41  Central Air      2930 non-null   object \n",
      " 42  Electrical       2929 non-null   object \n",
      " 43  1st Flr SF       2930 non-null   int64  \n",
      " 44  2nd Flr SF       2930 non-null   int64  \n",
      " 45  Low Qual Fin SF  2930 non-null   int64  \n",
      " 46  Gr Liv Area      2930 non-null   int64  \n",
      " 47  Bsmt Full Bath   2928 non-null   float64\n",
      " 48  Bsmt Half Bath   2928 non-null   float64\n",
      " 49  Full Bath        2930 non-null   int64  \n",
      " 50  Half Bath        2930 non-null   int64  \n",
      " 51  Bedroom AbvGr    2930 non-null   int64  \n",
      " 52  Kitchen AbvGr    2930 non-null   int64  \n",
      " 53  Kitchen Qual     2930 non-null   object \n",
      " 54  TotRms AbvGrd    2930 non-null   int64  \n",
      " 55  Functional       2930 non-null   object \n",
      " 56  Fireplaces       2930 non-null   int64  \n",
      " 57  Fireplace Qu     1508 non-null   object \n",
      " 58  Garage Type      2773 non-null   object \n",
      " 59  Garage Yr Blt    2771 non-null   float64\n",
      " 60  Garage Finish    2771 non-null   object \n",
      " 61  Garage Cars      2929 non-null   float64\n",
      " 62  Garage Area      2929 non-null   float64\n",
      " 63  Garage Qual      2771 non-null   object \n",
      " 64  Garage Cond      2771 non-null   object \n",
      " 65  Paved Drive      2930 non-null   object \n",
      " 66  Wood Deck SF     2930 non-null   int64  \n",
      " 67  Open Porch SF    2930 non-null   int64  \n",
      " 68  Enclosed Porch   2930 non-null   int64  \n",
      " 69  3Ssn Porch       2930 non-null   int64  \n",
      " 70  Screen Porch     2930 non-null   int64  \n",
      " 71  Pool Area        2930 non-null   int64  \n",
      " 72  Pool QC          13 non-null     object \n",
      " 73  Fence            572 non-null    object \n",
      " 74  Misc Feature     106 non-null    object \n",
      " 75  Misc Val         2930 non-null   int64  \n",
      " 76  Mo Sold          2930 non-null   int64  \n",
      " 77  Yr Sold          2930 non-null   int64  \n",
      " 78  Sale Type        2930 non-null   object \n",
      " 79  Sale Condition   2930 non-null   object \n",
      " 80  SalePrice        2930 non-null   int64  \n",
      "dtypes: float64(11), int64(27), object(43)\n",
      "memory usage: 1.8+ MB\n"
     ]
    }
   ],
   "source": [
    "df.info()"
   ]
  },
  {
   "cell_type": "code",
   "execution_count": 32,
   "id": "f62c4cb3",
   "metadata": {},
   "outputs": [
    {
     "data": {
      "text/plain": [
       "PID               -0.246521\n",
       "MS SubClass       -0.085092\n",
       "Lot Frontage       0.357318\n",
       "Lot Area           0.266549\n",
       "Overall Qual       0.799262\n",
       "Overall Cond      -0.101697\n",
       "Year Built         0.558426\n",
       "Year Remod/Add     0.532974\n",
       "Mas Vnr Area       0.508285\n",
       "BsmtFin SF 1       0.432914\n",
       "BsmtFin SF 2       0.005891\n",
       "Bsmt Unf SF        0.182855\n",
       "Total Bsmt SF      0.632280\n",
       "1st Flr SF         0.621676\n",
       "2nd Flr SF         0.269373\n",
       "Low Qual Fin SF   -0.037660\n",
       "Gr Liv Area        0.706780\n",
       "Bsmt Full Bath     0.276050\n",
       "Bsmt Half Bath    -0.035835\n",
       "Full Bath          0.545604\n",
       "Half Bath          0.285056\n",
       "Bedroom AbvGr      0.143913\n",
       "Kitchen AbvGr     -0.119814\n",
       "TotRms AbvGrd      0.495474\n",
       "Fireplaces         0.474558\n",
       "Garage Yr Blt      0.526965\n",
       "Garage Cars        0.647877\n",
       "Garage Area        0.640401\n",
       "Wood Deck SF       0.327143\n",
       "Open Porch SF      0.312951\n",
       "Enclosed Porch    -0.128787\n",
       "3Ssn Porch         0.032225\n",
       "Screen Porch       0.112151\n",
       "Pool Area          0.068403\n",
       "Misc Val          -0.015691\n",
       "Mo Sold            0.035259\n",
       "Yr Sold           -0.030569\n",
       "SalePrice          1.000000\n",
       "Name: SalePrice, dtype: float64"
      ]
     },
     "execution_count": 32,
     "metadata": {},
     "output_type": "execute_result"
    }
   ],
   "source": [
    "df.corr()['SalePrice']"
   ]
  },
  {
   "cell_type": "code",
   "execution_count": 37,
   "id": "00aeb9a2",
   "metadata": {},
   "outputs": [
    {
     "data": {
      "text/plain": [
       "SalePrice          1.000000\n",
       "Overall Qual       0.799262\n",
       "Gr Liv Area        0.706780\n",
       "Garage Cars        0.647877\n",
       "Garage Area        0.640401\n",
       "Total Bsmt SF      0.632280\n",
       "1st Flr SF         0.621676\n",
       "Year Built         0.558426\n",
       "Full Bath          0.545604\n",
       "Year Remod/Add     0.532974\n",
       "Garage Yr Blt      0.526965\n",
       "Mas Vnr Area       0.508285\n",
       "TotRms AbvGrd      0.495474\n",
       "Fireplaces         0.474558\n",
       "BsmtFin SF 1       0.432914\n",
       "Lot Frontage       0.357318\n",
       "Wood Deck SF       0.327143\n",
       "Open Porch SF      0.312951\n",
       "Half Bath          0.285056\n",
       "Bsmt Full Bath     0.276050\n",
       "2nd Flr SF         0.269373\n",
       "Lot Area           0.266549\n",
       "Bsmt Unf SF        0.182855\n",
       "Bedroom AbvGr      0.143913\n",
       "Screen Porch       0.112151\n",
       "Pool Area          0.068403\n",
       "Mo Sold            0.035259\n",
       "3Ssn Porch         0.032225\n",
       "BsmtFin SF 2       0.005891\n",
       "Misc Val          -0.015691\n",
       "Yr Sold           -0.030569\n",
       "Bsmt Half Bath    -0.035835\n",
       "Low Qual Fin SF   -0.037660\n",
       "MS SubClass       -0.085092\n",
       "Overall Cond      -0.101697\n",
       "Kitchen AbvGr     -0.119814\n",
       "Enclosed Porch    -0.128787\n",
       "PID               -0.246521\n",
       "Name: SalePrice, dtype: float64"
      ]
     },
     "execution_count": 37,
     "metadata": {},
     "output_type": "execute_result"
    }
   ],
   "source": [
    "df.corr()['SalePrice'].sort_values(ascending=False)"
   ]
  },
  {
   "cell_type": "code",
   "execution_count": 47,
   "id": "affca5c6",
   "metadata": {},
   "outputs": [
    {
     "data": {
      "image/png": "[encoded data removed]",
      "text/plain": [
       "<Figure size 432x288 with 1 Axes>"
      ]
     },
     "metadata": {
      "needs_background": "light"
     },
     "output_type": "display_data"
    }
   ],
   "source": [
    "sns.scatterplot(x='Overall Qual', y='SalePrice', data=df)\n",
    "plt.grid()"
   ]
  },
  {
   "cell_type": "code",
   "execution_count": 46,
   "id": "3efa4e8d",
   "metadata": {},
   "outputs": [
    {
     "data": {
      "image/png": "[encoded data removed]",
      "text/plain": [
       "<Figure size 432x288 with 1 Axes>"
      ]
     },
     "metadata": {
      "needs_background": "light"
     },
     "output_type": "display_data"
    }
   ],
   "source": [
    "sns.scatterplot(x='Gr Liv Area', y='SalePrice', data=df)"
   ]
  },
  {
   "cell_type": "code",
   "execution_count": 45,
   "id": "d0a54907",
   "metadata": {},
   "outputs": [
    {
     "data": {
      "text/html": [
       "<div>\n",
       "<style scoped>\n",
       "    .dataframe tbody tr th:only-of-type {\n",
       "        vertical-align: middle;\n",
       "    }\n",
       "\n",
       "    .dataframe tbody tr th {\n",
       "        vertical-align: top;\n",
       "    }\n",
       "\n",
       "    .dataframe thead th {\n",
       "        text-align: right;\n",
       "    }\n",
       "</style>\n",
       "<table border=\"1\" class=\"dataframe\">\n",
       "  <thead>\n",
       "    <tr style=\"text-align: right;\">\n",
       "      <th></th>\n",
       "      <th>PID</th>\n",
       "      <th>MS SubClass</th>\n",
       "      <th>MS Zoning</th>\n",
       "      <th>Lot Frontage</th>\n",
       "      <th>Lot Area</th>\n",
       "      <th>Street</th>\n",
       "      <th>Alley</th>\n",
       "      <th>Lot Shape</th>\n",
       "      <th>Land Contour</th>\n",
       "      <th>Utilities</th>\n",
       "      <th>...</th>\n",
       "      <th>Pool Area</th>\n",
       "      <th>Pool QC</th>\n",
       "      <th>Fence</th>\n",
       "      <th>Misc Feature</th>\n",
       "      <th>Misc Val</th>\n",
       "      <th>Mo Sold</th>\n",
       "      <th>Yr Sold</th>\n",
       "      <th>Sale Type</th>\n",
       "      <th>Sale Condition</th>\n",
       "      <th>SalePrice</th>\n",
       "    </tr>\n",
       "  </thead>\n",
       "  <tbody>\n",
       "    <tr>\n",
       "      <th>1182</th>\n",
       "      <td>533350090</td>\n",
       "      <td>60</td>\n",
       "      <td>RL</td>\n",
       "      <td>NaN</td>\n",
       "      <td>24572</td>\n",
       "      <td>Pave</td>\n",
       "      <td>NaN</td>\n",
       "      <td>IR1</td>\n",
       "      <td>Lvl</td>\n",
       "      <td>AllPub</td>\n",
       "      <td>...</td>\n",
       "      <td>0</td>\n",
       "      <td>NaN</td>\n",
       "      <td>NaN</td>\n",
       "      <td>NaN</td>\n",
       "      <td>0</td>\n",
       "      <td>6</td>\n",
       "      <td>2008</td>\n",
       "      <td>WD</td>\n",
       "      <td>Family</td>\n",
       "      <td>150000</td>\n",
       "    </tr>\n",
       "    <tr>\n",
       "      <th>1498</th>\n",
       "      <td>908154235</td>\n",
       "      <td>60</td>\n",
       "      <td>RL</td>\n",
       "      <td>313.0</td>\n",
       "      <td>63887</td>\n",
       "      <td>Pave</td>\n",
       "      <td>NaN</td>\n",
       "      <td>IR3</td>\n",
       "      <td>Bnk</td>\n",
       "      <td>AllPub</td>\n",
       "      <td>...</td>\n",
       "      <td>480</td>\n",
       "      <td>Gd</td>\n",
       "      <td>NaN</td>\n",
       "      <td>NaN</td>\n",
       "      <td>0</td>\n",
       "      <td>1</td>\n",
       "      <td>2008</td>\n",
       "      <td>New</td>\n",
       "      <td>Partial</td>\n",
       "      <td>160000</td>\n",
       "    </tr>\n",
       "    <tr>\n",
       "      <th>2180</th>\n",
       "      <td>908154195</td>\n",
       "      <td>20</td>\n",
       "      <td>RL</td>\n",
       "      <td>128.0</td>\n",
       "      <td>39290</td>\n",
       "      <td>Pave</td>\n",
       "      <td>NaN</td>\n",
       "      <td>IR1</td>\n",
       "      <td>Bnk</td>\n",
       "      <td>AllPub</td>\n",
       "      <td>...</td>\n",
       "      <td>0</td>\n",
       "      <td>NaN</td>\n",
       "      <td>NaN</td>\n",
       "      <td>Elev</td>\n",
       "      <td>17000</td>\n",
       "      <td>10</td>\n",
       "      <td>2007</td>\n",
       "      <td>New</td>\n",
       "      <td>Partial</td>\n",
       "      <td>183850</td>\n",
       "    </tr>\n",
       "    <tr>\n",
       "      <th>2181</th>\n",
       "      <td>908154205</td>\n",
       "      <td>60</td>\n",
       "      <td>RL</td>\n",
       "      <td>130.0</td>\n",
       "      <td>40094</td>\n",
       "      <td>Pave</td>\n",
       "      <td>NaN</td>\n",
       "      <td>IR1</td>\n",
       "      <td>Bnk</td>\n",
       "      <td>AllPub</td>\n",
       "      <td>...</td>\n",
       "      <td>0</td>\n",
       "      <td>NaN</td>\n",
       "      <td>NaN</td>\n",
       "      <td>NaN</td>\n",
       "      <td>0</td>\n",
       "      <td>10</td>\n",
       "      <td>2007</td>\n",
       "      <td>New</td>\n",
       "      <td>Partial</td>\n",
       "      <td>184750</td>\n",
       "    </tr>\n",
       "  </tbody>\n",
       "</table>\n",
       "<p>4 rows × 81 columns</p>\n",
       "</div>"
      ],
      "text/plain": [
       "            PID  MS SubClass MS Zoning  Lot Frontage  Lot Area Street Alley  \\\n",
       "1182  533350090           60        RL           NaN     24572   Pave   NaN   \n",
       "1498  908154235           60        RL         313.0     63887   Pave   NaN   \n",
       "2180  908154195           20        RL         128.0     39290   Pave   NaN   \n",
       "2181  908154205           60        RL         130.0     40094   Pave   NaN   \n",
       "\n",
       "     Lot Shape Land Contour Utilities  ... Pool Area Pool QC Fence  \\\n",
       "1182       IR1          Lvl    AllPub  ...         0     NaN   NaN   \n",
       "1498       IR3          Bnk    AllPub  ...       480      Gd   NaN   \n",
       "2180       IR1          Bnk    AllPub  ...         0     NaN   NaN   \n",
       "2181       IR1          Bnk    AllPub  ...         0     NaN   NaN   \n",
       "\n",
       "     Misc Feature Misc Val Mo Sold Yr Sold  Sale Type  Sale Condition  \\\n",
       "1182          NaN        0       6    2008        WD           Family   \n",
       "1498          NaN        0       1    2008        New         Partial   \n",
       "2180         Elev    17000      10    2007        New         Partial   \n",
       "2181          NaN        0      10    2007        New         Partial   \n",
       "\n",
       "      SalePrice  \n",
       "1182     150000  \n",
       "1498     160000  \n",
       "2180     183850  \n",
       "2181     184750  \n",
       "\n",
       "[4 rows x 81 columns]"
      ]
     },
     "execution_count": 45,
     "metadata": {},
     "output_type": "execute_result"
    }
   ],
   "source": [
    "df[(df['Overall Qual'] > 8) & (df['SalePrice'] < 200000)]"
   ]
  },
  {
   "cell_type": "code",
   "execution_count": 50,
   "id": "32a836a3",
   "metadata": {},
   "outputs": [
    {
     "data": {
      "text/html": [
       "<div>\n",
       "<style scoped>\n",
       "    .dataframe tbody tr th:only-of-type {\n",
       "        vertical-align: middle;\n",
       "    }\n",
       "\n",
       "    .dataframe tbody tr th {\n",
       "        vertical-align: top;\n",
       "    }\n",
       "\n",
       "    .dataframe thead th {\n",
       "        text-align: right;\n",
       "    }\n",
       "</style>\n",
       "<table border=\"1\" class=\"dataframe\">\n",
       "  <thead>\n",
       "    <tr style=\"text-align: right;\">\n",
       "      <th></th>\n",
       "      <th>Overall Qual</th>\n",
       "      <th>SalePrice</th>\n",
       "    </tr>\n",
       "  </thead>\n",
       "  <tbody>\n",
       "    <tr>\n",
       "      <th>1182</th>\n",
       "      <td>9</td>\n",
       "      <td>150000</td>\n",
       "    </tr>\n",
       "    <tr>\n",
       "      <th>1498</th>\n",
       "      <td>10</td>\n",
       "      <td>160000</td>\n",
       "    </tr>\n",
       "    <tr>\n",
       "      <th>2180</th>\n",
       "      <td>10</td>\n",
       "      <td>183850</td>\n",
       "    </tr>\n",
       "    <tr>\n",
       "      <th>2181</th>\n",
       "      <td>10</td>\n",
       "      <td>184750</td>\n",
       "    </tr>\n",
       "  </tbody>\n",
       "</table>\n",
       "</div>"
      ],
      "text/plain": [
       "      Overall Qual  SalePrice\n",
       "1182             9     150000\n",
       "1498            10     160000\n",
       "2180            10     183850\n",
       "2181            10     184750"
      ]
     },
     "execution_count": 50,
     "metadata": {},
     "output_type": "execute_result"
    }
   ],
   "source": [
    "df[(df['Overall Qual'] > 8) & (df['SalePrice'] < 200000)][['Overall Qual', 'SalePrice']]"
   ]
  },
  {
   "cell_type": "code",
   "execution_count": 52,
   "id": "51b18adf",
   "metadata": {},
   "outputs": [
    {
     "data": {
      "text/html": [
       "<div>\n",
       "<style scoped>\n",
       "    .dataframe tbody tr th:only-of-type {\n",
       "        vertical-align: middle;\n",
       "    }\n",
       "\n",
       "    .dataframe tbody tr th {\n",
       "        vertical-align: top;\n",
       "    }\n",
       "\n",
       "    .dataframe thead th {\n",
       "        text-align: right;\n",
       "    }\n",
       "</style>\n",
       "<table border=\"1\" class=\"dataframe\">\n",
       "  <thead>\n",
       "    <tr style=\"text-align: right;\">\n",
       "      <th></th>\n",
       "      <th>PID</th>\n",
       "      <th>MS SubClass</th>\n",
       "      <th>MS Zoning</th>\n",
       "      <th>Lot Frontage</th>\n",
       "      <th>Lot Area</th>\n",
       "      <th>Street</th>\n",
       "      <th>Alley</th>\n",
       "      <th>Lot Shape</th>\n",
       "      <th>Land Contour</th>\n",
       "      <th>Utilities</th>\n",
       "      <th>...</th>\n",
       "      <th>Pool Area</th>\n",
       "      <th>Pool QC</th>\n",
       "      <th>Fence</th>\n",
       "      <th>Misc Feature</th>\n",
       "      <th>Misc Val</th>\n",
       "      <th>Mo Sold</th>\n",
       "      <th>Yr Sold</th>\n",
       "      <th>Sale Type</th>\n",
       "      <th>Sale Condition</th>\n",
       "      <th>SalePrice</th>\n",
       "    </tr>\n",
       "  </thead>\n",
       "  <tbody>\n",
       "    <tr>\n",
       "      <th>1498</th>\n",
       "      <td>908154235</td>\n",
       "      <td>60</td>\n",
       "      <td>RL</td>\n",
       "      <td>313.0</td>\n",
       "      <td>63887</td>\n",
       "      <td>Pave</td>\n",
       "      <td>NaN</td>\n",
       "      <td>IR3</td>\n",
       "      <td>Bnk</td>\n",
       "      <td>AllPub</td>\n",
       "      <td>...</td>\n",
       "      <td>480</td>\n",
       "      <td>Gd</td>\n",
       "      <td>NaN</td>\n",
       "      <td>NaN</td>\n",
       "      <td>0</td>\n",
       "      <td>1</td>\n",
       "      <td>2008</td>\n",
       "      <td>New</td>\n",
       "      <td>Partial</td>\n",
       "      <td>160000</td>\n",
       "    </tr>\n",
       "    <tr>\n",
       "      <th>2180</th>\n",
       "      <td>908154195</td>\n",
       "      <td>20</td>\n",
       "      <td>RL</td>\n",
       "      <td>128.0</td>\n",
       "      <td>39290</td>\n",
       "      <td>Pave</td>\n",
       "      <td>NaN</td>\n",
       "      <td>IR1</td>\n",
       "      <td>Bnk</td>\n",
       "      <td>AllPub</td>\n",
       "      <td>...</td>\n",
       "      <td>0</td>\n",
       "      <td>NaN</td>\n",
       "      <td>NaN</td>\n",
       "      <td>Elev</td>\n",
       "      <td>17000</td>\n",
       "      <td>10</td>\n",
       "      <td>2007</td>\n",
       "      <td>New</td>\n",
       "      <td>Partial</td>\n",
       "      <td>183850</td>\n",
       "    </tr>\n",
       "    <tr>\n",
       "      <th>2181</th>\n",
       "      <td>908154205</td>\n",
       "      <td>60</td>\n",
       "      <td>RL</td>\n",
       "      <td>130.0</td>\n",
       "      <td>40094</td>\n",
       "      <td>Pave</td>\n",
       "      <td>NaN</td>\n",
       "      <td>IR1</td>\n",
       "      <td>Bnk</td>\n",
       "      <td>AllPub</td>\n",
       "      <td>...</td>\n",
       "      <td>0</td>\n",
       "      <td>NaN</td>\n",
       "      <td>NaN</td>\n",
       "      <td>NaN</td>\n",
       "      <td>0</td>\n",
       "      <td>10</td>\n",
       "      <td>2007</td>\n",
       "      <td>New</td>\n",
       "      <td>Partial</td>\n",
       "      <td>184750</td>\n",
       "    </tr>\n",
       "  </tbody>\n",
       "</table>\n",
       "<p>3 rows × 81 columns</p>\n",
       "</div>"
      ],
      "text/plain": [
       "            PID  MS SubClass MS Zoning  Lot Frontage  Lot Area Street Alley  \\\n",
       "1498  908154235           60        RL         313.0     63887   Pave   NaN   \n",
       "2180  908154195           20        RL         128.0     39290   Pave   NaN   \n",
       "2181  908154205           60        RL         130.0     40094   Pave   NaN   \n",
       "\n",
       "     Lot Shape Land Contour Utilities  ... Pool Area Pool QC Fence  \\\n",
       "1498       IR3          Bnk    AllPub  ...       480      Gd   NaN   \n",
       "2180       IR1          Bnk    AllPub  ...         0     NaN   NaN   \n",
       "2181       IR1          Bnk    AllPub  ...         0     NaN   NaN   \n",
       "\n",
       "     Misc Feature Misc Val Mo Sold Yr Sold  Sale Type  Sale Condition  \\\n",
       "1498          NaN        0       1    2008        New         Partial   \n",
       "2180         Elev    17000      10    2007        New         Partial   \n",
       "2181          NaN        0      10    2007        New         Partial   \n",
       "\n",
       "      SalePrice  \n",
       "1498     160000  \n",
       "2180     183850  \n",
       "2181     184750  \n",
       "\n",
       "[3 rows x 81 columns]"
      ]
     },
     "execution_count": 52,
     "metadata": {},
     "output_type": "execute_result"
    }
   ],
   "source": [
    "df[(df['Gr Liv Area'] > 4000) & (df['SalePrice'] < 400000)]"
   ]
  },
  {
   "cell_type": "code",
   "execution_count": 53,
   "id": "1de27317",
   "metadata": {},
   "outputs": [
    {
     "data": {
      "text/plain": [
       "Int64Index([1498, 2180, 2181], dtype='int64')"
      ]
     },
     "execution_count": 53,
     "metadata": {},
     "output_type": "execute_result"
    }
   ],
   "source": [
    "df[(df['Gr Liv Area'] > 4000) & (df['SalePrice'] < 400000)].index"
   ]
  },
  {
   "cell_type": "code",
   "execution_count": 54,
   "id": "64abe27a",
   "metadata": {},
   "outputs": [],
   "source": [
    "drop_index = df[(df['Gr Liv Area'] > 4000) & (df['SalePrice'] < 400000)].index"
   ]
  },
  {
   "cell_type": "code",
   "execution_count": 55,
   "id": "684c5856",
   "metadata": {},
   "outputs": [],
   "source": [
    "df = df.drop(drop_index)"
   ]
  },
  {
   "cell_type": "code",
   "execution_count": 56,
   "id": "ff1d6d54",
   "metadata": {},
   "outputs": [
    {
     "data": {
      "text/plain": [
       "<AxesSubplot:xlabel='Gr Liv Area', ylabel='SalePrice'>"
      ]
     },
     "execution_count": 56,
     "metadata": {},
     "output_type": "execute_result"
    },
    {
     "data": {
      "image/png": "[encoded data removed]",
      "text/plain": [
       "<Figure size 432x288 with 1 Axes>"
      ]
     },
     "metadata": {
      "needs_background": "light"
     },
     "output_type": "display_data"
    }
   ],
   "source": [
    "sns.scatterplot(x='Gr Liv Area', y='SalePrice', data=df)"
   ]
  }
 ],
 "metadata": {
  "kernelspec": {
   "display_name": "Python 3 (ipykernel)",
   "language": "python",
   "name": "python3"
  },
  "language_info": {
   "codemirror_mode": {
    "name": "ipython",
    "version": 3
   },
   "file_extension": ".py",
   "mimetype": "text/x-python",
   "name": "python",
   "nbconvert_exporter": "python",
   "pygments_lexer": "ipython3",
   "version": "3.9.7"
  }
 },
 "nbformat": 4,
 "nbformat_minor": 5
}
